{
 "cells": [
  {
   "cell_type": "markdown",
   "metadata": {
    "colab_type": "text",
    "id": "view-in-github"
   },
   "source": [
    "<a href=\"https://colab.research.google.com/github/JingyiSu/prelim/blob/main/Pass_040922.ipynb\" target=\"_parent\"><img src=\"https://colab.research.google.com/assets/colab-badge.svg\" alt=\"Open In Colab\"/></a>"
   ]
  },
  {
   "cell_type": "markdown",
   "metadata": {
    "id": "Prob3NJO8Orq"
   },
   "source": [
    "# Setup"
   ]
  },
  {
   "cell_type": "code",
   "execution_count": 1,
   "metadata": {
    "id": "Sz22xESvGbTo"
   },
   "outputs": [],
   "source": [
    "!pip install -qq jovian\n",
    "!pip install -qq datasets\n",
    "!pip install -qq transformers\n",
    "!pip install -qq seaborn\n",
    "!pip install -qq sklearn"
   ]
  },
  {
   "cell_type": "code",
   "execution_count": 2,
   "metadata": {
    "colab": {
     "base_uri": "https://localhost:8080/"
    },
    "id": "3HtpJJikMzIC",
    "outputId": "d03bc630-82ca-44f3-a1b2-92c13fb42f3e"
   },
   "outputs": [
    {
     "name": "stdout",
     "output_type": "stream",
     "text": [
      "Sun Apr 10 00:17:54 2022       \n",
      "+-----------------------------------------------------------------------------+\n",
      "| NVIDIA-SMI 510.47.03    Driver Version: 510.47.03    CUDA Version: 11.6     |\n",
      "|-------------------------------+----------------------+----------------------+\n",
      "| GPU  Name        Persistence-M| Bus-Id        Disp.A | Volatile Uncorr. ECC |\n",
      "| Fan  Temp  Perf  Pwr:Usage/Cap|         Memory-Usage | GPU-Util  Compute M. |\n",
      "|                               |                      |               MIG M. |\n",
      "|===============================+======================+======================|\n",
      "|   0  Tesla P100-PCIE...  On   | 00000000:04:00.0 Off |                    0 |\n",
      "| N/A   38C    P0    27W / 250W |      0MiB / 16384MiB |      0%      Default |\n",
      "|                               |                      |                  N/A |\n",
      "+-------------------------------+----------------------+----------------------+\n",
      "                                                                               \n",
      "+-----------------------------------------------------------------------------+\n",
      "| Processes:                                                                  |\n",
      "|  GPU   GI   CI        PID   Type   Process name                  GPU Memory |\n",
      "|        ID   ID                                                   Usage      |\n",
      "|=============================================================================|\n",
      "|  No running processes found                                                 |\n",
      "+-----------------------------------------------------------------------------+\n"
     ]
    }
   ],
   "source": [
    "!nvidia-smi"
   ]
  },
  {
   "cell_type": "code",
   "execution_count": 3,
   "metadata": {
    "id": "SaEf6D-wtbTa"
   },
   "outputs": [
    {
     "data": {
      "text/plain": [
       "device(type='cuda', index=0)"
      ]
     },
     "execution_count": 3,
     "metadata": {},
     "output_type": "execute_result"
    }
   ],
   "source": [
    "import transformers\n",
    "import torch.nn.functional as F\n",
    "import torch.nn.utils.rnn\n",
    "from tqdm.notebook import tqdm\n",
    "\n",
    "from transformers import AutoModel, AutoTokenizer, BertTokenizer, BertModel, AdamW, get_linear_schedule_with_warmup\n",
    "from transformers import DefaultDataCollator\n",
    "from datasets import load_dataset, concatenate_datasets, ClassLabel, Value\n",
    "\n",
    "import torch\n",
    "import numpy as np\n",
    "import pandas as pd\n",
    "import seaborn as sns\n",
    "from pylab import rcParams\n",
    "import matplotlib.pyplot as plt\n",
    "from matplotlib import rc\n",
    "from sklearn.model_selection import train_test_split\n",
    "from sklearn.metrics import confusion_matrix, classification_report, f1_score\n",
    "from collections import defaultdict\n",
    "from textwrap import wrap\n",
    "from torch import nn, optim\n",
    "from torch.utils.data import Dataset, DataLoader\n",
    "%matplotlib inline\n",
    "%config InlineBackend.figure_format = 'retina'\n",
    "sns.set(style='whitegrid', palette='muted', font_scale=1.2)\n",
    "HAPPY_COLORS_PALETTE = [\"#01BEFE\", \"#FFDD00\",\n",
    "                        \"#FF7D00\", \"#FF006D\", \"#ADFF02\", \"#8F00FF\"]\n",
    "sns.set_palette(sns.color_palette(HAPPY_COLORS_PALETTE))\n",
    "rcParams['figure.figsize'] = 12, 8\n",
    "RANDOM_SEED = 42\n",
    "np.random.seed(RANDOM_SEED)\n",
    "torch.manual_seed(RANDOM_SEED)\n",
    "\n",
    "device = torch.device(\"cuda:0\" if torch.cuda.is_available() else \"cpu\")\n",
    "device\n"
   ]
  },
  {
   "cell_type": "markdown",
   "metadata": {
    "id": "iV8oeblR6ffW"
   },
   "source": [
    "# Load Data"
   ]
  },
  {
   "cell_type": "raw",
   "metadata": {
    "colab": {
     "base_uri": "https://localhost:8080/"
    },
    "id": "thu3zPbEKaov",
    "outputId": "4c62207b-26fc-4f1d-ae9d-823ad1c2b091"
   },
   "source": [
    "!pip install gdown\n",
    "!mkdir data data/code2nl\n",
    "!cd data/code2nl\n",
    "!gdown https://drive.google.com/file/d/1rd2Tc6oUWBo7JouwexW3ksQ0PaOhUr6h\n",
    "!unzip Cleaned_CodeSearchNet.zip\n",
    "!rm Cleaned_CodeSearchNet.zip\n",
    "!cd ../.."
   ]
  },
  {
   "cell_type": "code",
   "execution_count": 4,
   "metadata": {
    "id": "W-raAYGY4hcM"
   },
   "outputs": [],
   "source": [
    "DATASET_NAME = \"code_x_glue_cc_defect_detection\""
   ]
  },
  {
   "cell_type": "code",
   "execution_count": 5,
   "metadata": {
    "colab": {
     "base_uri": "https://localhost:8080/",
     "height": 67,
     "referenced_widgets": [
      "42e73da070fc4671b15f80e22eb06786",
      "05967ad7124c4949b82f47b2b551ea15",
      "06c746eb66ac41f1b7f573d024864916",
      "f8e73fd42f644062b63d45e56993ddc8",
      "73cc05e6173540e98bb658ca4b444171",
      "09ac422dde3b4d3a8a85dd72a33697d9",
      "9e33ee256f9248838e813ff577fedf94",
      "c128dcb3d7c84484a407c04a60de410b",
      "768fff71519f4e9b989c0196b28a53d6",
      "f20338cea3fd4a2ba17944d3175b122a",
      "a2cde7484e8c4b1ba5f451e2ff554b7b",
      "74074bdc14ce446a812f80b833526509",
      "6916f3385f314cad82026c1fddd31a2d",
      "b247101d9ca5414a8f70ce0ff28098b0",
      "0864d4cf0c48421f9e9d8db459ba92c6",
      "1097de729a064cb89d584a5988bfa2a0",
      "aaa211110933417c8dfc356a29ff1b5c",
      "42d25e827f684e9faa3e73c7092b4ffe",
      "795f23a2eb4345ad8431849e9187ddf5",
      "1058751a09db4498af06c315ec4ad484",
      "6cb7ef25477448979d0ea3ea87556174",
      "b2df336e71db4a00a59e169969ba6e58",
      "560703556b044e5caaf1897769c0b354",
      "60d336df698e4e0f9060f78c640c4c99",
      "1af96b3684e94f37ac7fab0e44f7c9a0",
      "",
      "e3e28a99f42e42929b2257d9890332bb"
     ]
    },
    "id": "RWQq2-Cd1InA",
    "outputId": "23b6cce2-1ed5-4290-e151-be4d449bbb1b"
   },
   "outputs": [
    {
     "name": "stderr",
     "output_type": "stream",
     "text": [
      "Reusing dataset code_x_glue_cc_defect_detection (/users/PCS0256/jsu/.cache/huggingface/datasets/code_x_glue_cc_defect_detection/default/0.0.0/b0f3f36d6908feee44326eb5d257cfe4a02fe9fa50dfe441cad249b0e0ebfb11)\n"
     ]
    },
    {
     "data": {
      "application/vnd.jupyter.widget-view+json": {
       "model_id": "d02a9643340f471cba9e924c7f6a2bb0",
       "version_major": 2,
       "version_minor": 0
      },
      "text/plain": [
       "  0%|          | 0/3 [00:00<?, ?it/s]"
      ]
     },
     "metadata": {},
     "output_type": "display_data"
    }
   ],
   "source": [
    "dataset = load_dataset(\"code_x_glue_cc_defect_detection\")"
   ]
  },
  {
   "cell_type": "code",
   "execution_count": 6,
   "metadata": {
    "colab": {
     "base_uri": "https://localhost:8080/"
    },
    "id": "pBeytEb01M1e",
    "outputId": "63b9500f-f76c-473b-d514-5545caf5a780"
   },
   "outputs": [
    {
     "data": {
      "text/plain": [
       "Dataset({\n",
       "    features: ['id', 'func', 'target', 'project', 'commit_id'],\n",
       "    num_rows: 27318\n",
       "})"
      ]
     },
     "execution_count": 6,
     "metadata": {},
     "output_type": "execute_result"
    }
   ],
   "source": [
    "dataset = concatenate_datasets([dataset['train'], dataset['validation'], dataset['test']])\n",
    "#dataset_train = load_dataset(\"code_x_glue_cc_defect_detection\", split='train')\n",
    "dataset"
   ]
  },
  {
   "cell_type": "code",
   "execution_count": 7,
   "metadata": {
    "colab": {
     "base_uri": "https://localhost:8080/"
    },
    "id": "4BufpcubKBz2",
    "outputId": "a6cf3502-4506-4597-ab93-cff8407accf0"
   },
   "outputs": [
    {
     "name": "stdout",
     "output_type": "stream",
     "text": [
      "DatasetInfo(description='CodeXGLUE Defect-detection dataset, available at https://github.com/microsoft/CodeXGLUE/tree/main/Code-Code/Defect-detection\\n\\nGiven a source code, the task is to identify whether it is an insecure code that may attack software systems, such as resource leaks, use-after-free vulnerabilities and DoS attack. We treat the task as binary classification (0/1), where 1 stands for insecure code and 0 for secure code.\\nThe dataset we use comes from the paper Devign: Effective Vulnerability Identification by Learning Comprehensive Program Semantics via Graph Neural Networks. We combine all projects and split 80%/10%/10% for training/dev/test.', citation='@inproceedings{zhou2019devign,\\ntitle={Devign: Effective vulnerability identification by learning comprehensive program semantics via graph neural networks},\\nauthor={Zhou, Yaqin and Liu, Shangqing and Siow, Jingkai and Du, Xiaoning and Liu, Yang},\\nbooktitle={Advances in Neural Information Processing Systems},\\npages={10197--10207}, year={2019}', homepage='https://github.com/madlag/CodeXGLUE/tree/main/Code-Code/Defect-detection', license='', features={'id': Value(dtype='int32', id=None), 'func': Value(dtype='string', id=None), 'target': Value(dtype='bool', id=None), 'project': Value(dtype='string', id=None), 'commit_id': Value(dtype='string', id=None)}, post_processed=None, supervised_keys=None, task_templates=None, builder_name=None, config_name=None, version=None, splits=None, download_checksums=None, download_size=None, post_processing_size=None, dataset_size=None, size_in_bytes=None)\n",
      "None\n",
      "{'id': Value(dtype='int32', id=None), 'func': Value(dtype='string', id=None), 'target': Value(dtype='bool', id=None), 'project': Value(dtype='string', id=None), 'commit_id': Value(dtype='string', id=None)}\n",
      "{'id': 0, 'func': 'static av_cold int vdadec_init(AVCodecContext *avctx)\\n\\n{\\n\\n    VDADecoderContext *ctx = avctx->priv_data;\\n\\n    struct vda_context *vda_ctx = &ctx->vda_ctx;\\n\\n    OSStatus status;\\n\\n    int ret;\\n\\n\\n\\n    ctx->h264_initialized = 0;\\n\\n\\n\\n    /* init pix_fmts of codec */\\n\\n    if (!ff_h264_vda_decoder.pix_fmts) {\\n\\n        if (kCFCoreFoundationVersionNumber < kCFCoreFoundationVersionNumber10_7)\\n\\n            ff_h264_vda_decoder.pix_fmts = vda_pixfmts_prior_10_7;\\n\\n        else\\n\\n            ff_h264_vda_decoder.pix_fmts = vda_pixfmts;\\n\\n    }\\n\\n\\n\\n    /* init vda */\\n\\n    memset(vda_ctx, 0, sizeof(struct vda_context));\\n\\n    vda_ctx->width = avctx->width;\\n\\n    vda_ctx->height = avctx->height;\\n\\n    vda_ctx->format = \\'avc1\\';\\n\\n    vda_ctx->use_sync_decoding = 1;\\n\\n    vda_ctx->use_ref_buffer = 1;\\n\\n    ctx->pix_fmt = avctx->get_format(avctx, avctx->codec->pix_fmts);\\n\\n    switch (ctx->pix_fmt) {\\n\\n    case AV_PIX_FMT_UYVY422:\\n\\n        vda_ctx->cv_pix_fmt_type = \\'2vuy\\';\\n\\n        break;\\n\\n    case AV_PIX_FMT_YUYV422:\\n\\n        vda_ctx->cv_pix_fmt_type = \\'yuvs\\';\\n\\n        break;\\n\\n    case AV_PIX_FMT_NV12:\\n\\n        vda_ctx->cv_pix_fmt_type = \\'420v\\';\\n\\n        break;\\n\\n    case AV_PIX_FMT_YUV420P:\\n\\n        vda_ctx->cv_pix_fmt_type = \\'y420\\';\\n\\n        break;\\n\\n    default:\\n\\n        av_log(avctx, AV_LOG_ERROR, \"Unsupported pixel format: %d\\\\n\", avctx->pix_fmt);\\n\\n        goto failed;\\n\\n    }\\n\\n    status = ff_vda_create_decoder(vda_ctx,\\n\\n                                   avctx->extradata, avctx->extradata_size);\\n\\n    if (status != kVDADecoderNoErr) {\\n\\n        av_log(avctx, AV_LOG_ERROR,\\n\\n                \"Failed to init VDA decoder: %d.\\\\n\", status);\\n\\n        goto failed;\\n\\n    }\\n\\n    avctx->hwaccel_context = vda_ctx;\\n\\n\\n\\n    /* changes callback functions */\\n\\n    avctx->get_format = get_format;\\n\\n    avctx->get_buffer2 = get_buffer2;\\n\\n#if FF_API_GET_BUFFER\\n\\n    // force the old get_buffer to be empty\\n\\n    avctx->get_buffer = NULL;\\n\\n#endif\\n\\n\\n\\n    /* init H.264 decoder */\\n\\n    ret = ff_h264_decoder.init(avctx);\\n\\n    if (ret < 0) {\\n\\n        av_log(avctx, AV_LOG_ERROR, \"Failed to open H.264 decoder.\\\\n\");\\n\\n        goto failed;\\n\\n    }\\n\\n    ctx->h264_initialized = 1;\\n\\n\\n\\n    return 0;\\n\\n\\n\\nfailed:\\n\\n    vdadec_close(avctx);\\n\\n    return -1;\\n\\n}\\n', 'target': False, 'project': 'FFmpeg', 'commit_id': '973b1a6b9070e2bf17d17568cbaf4043ce931f51'}\n"
     ]
    }
   ],
   "source": [
    "print(dataset.info)\n",
    "print(dataset.split)\n",
    "print(dataset.features)\n",
    "print(dataset[0])"
   ]
  },
  {
   "cell_type": "code",
   "execution_count": 8,
   "metadata": {
    "colab": {
     "base_uri": "https://localhost:8080/"
    },
    "id": "9GJd1nb8KkcZ",
    "outputId": "15d68877-100c-4ebe-b83e-7ed2e3276fbf"
   },
   "outputs": [
    {
     "name": "stdout",
     "output_type": "stream",
     "text": [
      "(27318, 5)\n",
      "5\n",
      "27318\n"
     ]
    },
    {
     "data": {
      "text/plain": [
       "27318"
      ]
     },
     "execution_count": 8,
     "metadata": {},
     "output_type": "execute_result"
    }
   ],
   "source": [
    "print(dataset.shape)\n",
    "print(dataset.num_columns)\n",
    "print(dataset.num_rows)\n",
    "len(dataset)"
   ]
  },
  {
   "cell_type": "markdown",
   "metadata": {
    "id": "VY2qr1od6y4B"
   },
   "source": [
    "## Rename column"
   ]
  },
  {
   "cell_type": "code",
   "execution_count": 9,
   "metadata": {
    "id": "ReaZIpP6LjG-"
   },
   "outputs": [],
   "source": [
    "dataset = dataset.rename_column(\"target\", \"label\")"
   ]
  },
  {
   "cell_type": "code",
   "execution_count": 10,
   "metadata": {
    "colab": {
     "base_uri": "https://localhost:8080/"
    },
    "id": "dP7dG9EDLnwo",
    "outputId": "0027d63a-a2bf-4e21-b7c6-58239dcc0891"
   },
   "outputs": [
    {
     "data": {
      "text/plain": [
       "{'id': Value(dtype='int32', id=None),\n",
       " 'func': Value(dtype='string', id=None),\n",
       " 'label': Value(dtype='bool', id=None),\n",
       " 'project': Value(dtype='string', id=None),\n",
       " 'commit_id': Value(dtype='string', id=None)}"
      ]
     },
     "execution_count": 10,
     "metadata": {},
     "output_type": "execute_result"
    }
   ],
   "source": [
    "dataset.features"
   ]
  },
  {
   "cell_type": "markdown",
   "metadata": {
    "id": "D0EwkDI77-Ju"
   },
   "source": [
    "## Convert Value to ClassLabel Object"
   ]
  },
  {
   "cell_type": "code",
   "execution_count": 11,
   "metadata": {
    "colab": {
     "base_uri": "https://localhost:8080/",
     "referenced_widgets": [
      "47f1f465bb16490f852bc4288446a449",
      "eeda2187f52f491f91eaca3093650697"
     ]
    },
    "id": "SkcNYhg0LIgr",
    "outputId": "9b80b33c-0761-4870-9601-e8e80bdbc02c"
   },
   "outputs": [
    {
     "name": "stderr",
     "output_type": "stream",
     "text": [
      "Loading cached processed dataset at /users/PCS0256/jsu/.cache/huggingface/datasets/code_x_glue_cc_defect_detection/default/0.0.0/b0f3f36d6908feee44326eb5d257cfe4a02fe9fa50dfe441cad249b0e0ebfb11/cache-761256d31e549ebe.arrow\n",
      "Loading cached processed dataset at /users/PCS0256/jsu/.cache/huggingface/datasets/code_x_glue_cc_defect_detection/default/0.0.0/b0f3f36d6908feee44326eb5d257cfe4a02fe9fa50dfe441cad249b0e0ebfb11/cache-fc270523ae366817.arrow\n"
     ]
    }
   ],
   "source": [
    "# Creating a ClassLabel Object\n",
    "df = dataset.to_pandas()\n",
    "labels = df['label'].unique().tolist()\n",
    "ClassLabels = ClassLabel(num_classes=len(labels), names=labels)\n",
    "\n",
    "# Mapping Labels to IDs\n",
    "\n",
    "\n",
    "def map_label2id(example):\n",
    "    example['label'] = ClassLabels.str2int(example['label'])\n",
    "    return example\n",
    "\n",
    "\n",
    "dataset = dataset.map(map_label2id, batched=True)\n",
    "\n",
    "# Casting label column to ClassLabel Object\n",
    "dataset = dataset.cast_column('label', ClassLabels)\n"
   ]
  },
  {
   "cell_type": "code",
   "execution_count": 12,
   "metadata": {
    "colab": {
     "base_uri": "https://localhost:8080/"
    },
    "id": "R_2KdRO6HXFT",
    "outputId": "12d3eea4-36ec-443a-953c-0c617b70cb04"
   },
   "outputs": [
    {
     "data": {
      "text/plain": [
       "{'id': Value(dtype='int32', id=None),\n",
       " 'func': Value(dtype='string', id=None),\n",
       " 'label': ClassLabel(num_classes=2, names=[False, True], id=None),\n",
       " 'project': Value(dtype='string', id=None),\n",
       " 'commit_id': Value(dtype='string', id=None)}"
      ]
     },
     "execution_count": 12,
     "metadata": {},
     "output_type": "execute_result"
    }
   ],
   "source": [
    "dataset.features"
   ]
  },
  {
   "cell_type": "code",
   "execution_count": 13,
   "metadata": {
    "id": "zdn1D8R49v_m"
   },
   "outputs": [],
   "source": [
    "df = dataset.to_pandas(dataset)"
   ]
  },
  {
   "cell_type": "code",
   "execution_count": 14,
   "metadata": {
    "colab": {
     "base_uri": "https://localhost:8080/",
     "height": 243
    },
    "id": "-LmD6at691Ky",
    "outputId": "3ff60fa4-6ce5-4953-ee0d-4bcd930ee876"
   },
   "outputs": [
    {
     "name": "stdout",
     "output_type": "stream",
     "text": [
      "(27318, 5)\n",
      "False\n"
     ]
    },
    {
     "data": {
      "text/html": [
       "<div>\n",
       "<style scoped>\n",
       "    .dataframe tbody tr th:only-of-type {\n",
       "        vertical-align: middle;\n",
       "    }\n",
       "\n",
       "    .dataframe tbody tr th {\n",
       "        vertical-align: top;\n",
       "    }\n",
       "\n",
       "    .dataframe thead th {\n",
       "        text-align: right;\n",
       "    }\n",
       "</style>\n",
       "<table border=\"1\" class=\"dataframe\">\n",
       "  <thead>\n",
       "    <tr style=\"text-align: right;\">\n",
       "      <th></th>\n",
       "      <th>id</th>\n",
       "      <th>func</th>\n",
       "      <th>label</th>\n",
       "      <th>project</th>\n",
       "      <th>commit_id</th>\n",
       "    </tr>\n",
       "  </thead>\n",
       "  <tbody>\n",
       "    <tr>\n",
       "      <th>11264</th>\n",
       "      <td>14026</td>\n",
       "      <td>static int ehci_state_fetchqtd(EHCIQueue *q)\\n...</td>\n",
       "      <td>1</td>\n",
       "      <td>qemu</td>\n",
       "      <td>ef5b234477df80700b128f561f5877a0688a70c8</td>\n",
       "    </tr>\n",
       "    <tr>\n",
       "      <th>20121</th>\n",
       "      <td>25160</td>\n",
       "      <td>static inline int check_ap(CPUARMState *env, i...</td>\n",
       "      <td>0</td>\n",
       "      <td>qemu</td>\n",
       "      <td>76e3e1bcaefe0da394f328854cb72f9449f23732</td>\n",
       "    </tr>\n",
       "    <tr>\n",
       "      <th>22477</th>\n",
       "      <td>6361</td>\n",
       "      <td>VirtIODevice *virtio_blk_init(DeviceState *dev...</td>\n",
       "      <td>1</td>\n",
       "      <td>qemu</td>\n",
       "      <td>69b302b2044a9a0f6d157d25b39a91ff7124c61f</td>\n",
       "    </tr>\n",
       "    <tr>\n",
       "      <th>12176</th>\n",
       "      <td>15162</td>\n",
       "      <td>int do_drive_del(Monitor *mon, const QDict *qd...</td>\n",
       "      <td>0</td>\n",
       "      <td>qemu</td>\n",
       "      <td>922453bca6a927bb527068ae8679d587cfa45dbc</td>\n",
       "    </tr>\n",
       "    <tr>\n",
       "      <th>7793</th>\n",
       "      <td>9696</td>\n",
       "      <td>static void omap_os_timer_write(void *opaque, ...</td>\n",
       "      <td>0</td>\n",
       "      <td>qemu</td>\n",
       "      <td>a8170e5e97ad17ca169c64ba87ae2f53850dab4c</td>\n",
       "    </tr>\n",
       "  </tbody>\n",
       "</table>\n",
       "</div>"
      ],
      "text/plain": [
       "          id                                               func  label  \\\n",
       "11264  14026  static int ehci_state_fetchqtd(EHCIQueue *q)\\n...      1   \n",
       "20121  25160  static inline int check_ap(CPUARMState *env, i...      0   \n",
       "22477   6361  VirtIODevice *virtio_blk_init(DeviceState *dev...      1   \n",
       "12176  15162  int do_drive_del(Monitor *mon, const QDict *qd...      0   \n",
       "7793    9696  static void omap_os_timer_write(void *opaque, ...      0   \n",
       "\n",
       "      project                                 commit_id  \n",
       "11264    qemu  ef5b234477df80700b128f561f5877a0688a70c8  \n",
       "20121    qemu  76e3e1bcaefe0da394f328854cb72f9449f23732  \n",
       "22477    qemu  69b302b2044a9a0f6d157d25b39a91ff7124c61f  \n",
       "12176    qemu  922453bca6a927bb527068ae8679d587cfa45dbc  \n",
       "7793     qemu  a8170e5e97ad17ca169c64ba87ae2f53850dab4c  "
      ]
     },
     "execution_count": 14,
     "metadata": {},
     "output_type": "execute_result"
    }
   ],
   "source": [
    "print(df.shape)\n",
    "print(df.isnull().values.any())\n",
    "df.sample(5)"
   ]
  },
  {
   "cell_type": "code",
   "execution_count": 15,
   "metadata": {
    "colab": {
     "base_uri": "https://localhost:8080/",
     "height": 206
    },
    "id": "g80TfRR4-7bq",
    "outputId": "f2c328b5-5a50-4450-e96c-c65955cf6ea1"
   },
   "outputs": [
    {
     "data": {
      "text/html": [
       "<div>\n",
       "<style scoped>\n",
       "    .dataframe tbody tr th:only-of-type {\n",
       "        vertical-align: middle;\n",
       "    }\n",
       "\n",
       "    .dataframe tbody tr th {\n",
       "        vertical-align: top;\n",
       "    }\n",
       "\n",
       "    .dataframe thead th {\n",
       "        text-align: right;\n",
       "    }\n",
       "</style>\n",
       "<table border=\"1\" class=\"dataframe\">\n",
       "  <thead>\n",
       "    <tr style=\"text-align: right;\">\n",
       "      <th></th>\n",
       "      <th>id</th>\n",
       "      <th>func</th>\n",
       "      <th>label</th>\n",
       "      <th>project</th>\n",
       "      <th>commit_id</th>\n",
       "      <th>func_length</th>\n",
       "    </tr>\n",
       "  </thead>\n",
       "  <tbody>\n",
       "    <tr>\n",
       "      <th>22912</th>\n",
       "      <td>10659</td>\n",
       "      <td>void avcodec_default_release_buffer(AVCodecCon...</td>\n",
       "      <td>0</td>\n",
       "      <td>FFmpeg</td>\n",
       "      <td>a09bb3ba5e018b81a659c199a84cd1d80c07d869</td>\n",
       "      <td>1087</td>\n",
       "    </tr>\n",
       "    <tr>\n",
       "      <th>6506</th>\n",
       "      <td>8104</td>\n",
       "      <td>static void co_sleep_cb(void *opaque)\\n\\n{\\n\\n...</td>\n",
       "      <td>1</td>\n",
       "      <td>qemu</td>\n",
       "      <td>6133b39f3c36623425a6ede9e89d93175fde15cd</td>\n",
       "      <td>114</td>\n",
       "    </tr>\n",
       "    <tr>\n",
       "      <th>24620</th>\n",
       "      <td>372</td>\n",
       "      <td>int attribute_align_arg avcodec_decode_video2(...</td>\n",
       "      <td>1</td>\n",
       "      <td>FFmpeg</td>\n",
       "      <td>1bc64c2814d409d3cc129c27c493ee915bebdc4a</td>\n",
       "      <td>1572</td>\n",
       "    </tr>\n",
       "    <tr>\n",
       "      <th>5266</th>\n",
       "      <td>6536</td>\n",
       "      <td>int ff_h264_update_thread_context(AVCodecConte...</td>\n",
       "      <td>0</td>\n",
       "      <td>FFmpeg</td>\n",
       "      <td>c8dcff0cdb17d0aa03ac729eba12d1a20f1f59c8</td>\n",
       "      <td>4326</td>\n",
       "    </tr>\n",
       "    <tr>\n",
       "      <th>13627</th>\n",
       "      <td>16992</td>\n",
       "      <td>static inline TranslationBlock *tb_find(CPUSta...</td>\n",
       "      <td>0</td>\n",
       "      <td>qemu</td>\n",
       "      <td>9b990ee5a3cc6aa38f81266fb0c6ef37a36c45b9</td>\n",
       "      <td>2032</td>\n",
       "    </tr>\n",
       "  </tbody>\n",
       "</table>\n",
       "</div>"
      ],
      "text/plain": [
       "          id                                               func  label  \\\n",
       "22912  10659  void avcodec_default_release_buffer(AVCodecCon...      0   \n",
       "6506    8104  static void co_sleep_cb(void *opaque)\\n\\n{\\n\\n...      1   \n",
       "24620    372  int attribute_align_arg avcodec_decode_video2(...      1   \n",
       "5266    6536  int ff_h264_update_thread_context(AVCodecConte...      0   \n",
       "13627  16992  static inline TranslationBlock *tb_find(CPUSta...      0   \n",
       "\n",
       "      project                                 commit_id  func_length  \n",
       "22912  FFmpeg  a09bb3ba5e018b81a659c199a84cd1d80c07d869         1087  \n",
       "6506     qemu  6133b39f3c36623425a6ede9e89d93175fde15cd          114  \n",
       "24620  FFmpeg  1bc64c2814d409d3cc129c27c493ee915bebdc4a         1572  \n",
       "5266   FFmpeg  c8dcff0cdb17d0aa03ac729eba12d1a20f1f59c8         4326  \n",
       "13627    qemu  9b990ee5a3cc6aa38f81266fb0c6ef37a36c45b9         2032  "
      ]
     },
     "execution_count": 15,
     "metadata": {},
     "output_type": "execute_result"
    }
   ],
   "source": [
    "df['func_length'] = df['func'].apply(lambda x: len(x))\n",
    "#df = df.sort_values(by='id', ascending=True)\n",
    "df.sample(5)"
   ]
  },
  {
   "cell_type": "code",
   "execution_count": 16,
   "metadata": {
    "colab": {
     "base_uri": "https://localhost:8080/"
    },
    "id": "_0xPo60OAMUU",
    "outputId": "7fe91fea-0666-4353-ddd6-1d67fe4d9108"
   },
   "outputs": [
    {
     "data": {
      "text/plain": [
       "2023.9647119115602"
      ]
     },
     "execution_count": 16,
     "metadata": {},
     "output_type": "execute_result"
    }
   ],
   "source": [
    "#mean sentence length\n",
    "np.mean(df['func_length'])"
   ]
  },
  {
   "cell_type": "code",
   "execution_count": 17,
   "metadata": {
    "id": "kuTq9gfKAIib"
   },
   "outputs": [],
   "source": [
    "#changing ratings to 0-numbering\n",
    "#zero_numbering = {1:0, 2:1, 3:2, 4:3, 5:4}\n",
    "#reviews['rating'] = reviews['rating'].apply(lambda x: zero_numbering[x])"
   ]
  },
  {
   "cell_type": "markdown",
   "metadata": {
    "id": "zq9ouyBKDOMa"
   },
   "source": [
    "# Data Pre-processing\n",
    "\n",
    "ref: https://colab.research.google.com/drive/1PHv-IRLPCtv7oTcIGbsgZHqrB5LPvB7S#scrollTo=Vea9edaaxSPO"
   ]
  },
  {
   "cell_type": "markdown",
   "metadata": {
    "id": "v2OyCxgviqBj"
   },
   "source": [
    "## PRE_TRAINED_MODEL_NAME"
   ]
  },
  {
   "cell_type": "code",
   "execution_count": 18,
   "metadata": {
    "id": "vf2iN1GQCBri"
   },
   "outputs": [],
   "source": [
    "PRE_TRAINED_MODEL_NAME = 'bert-base-uncased'\n",
    "\n",
    "# bert-base-uncased\n",
    "\n",
    "# 'distilroberta-base'\n",
    "\n",
    "# 'microsoft/graphcodebert-base'\n",
    "\n",
    "# 'microsoft/codebert-base'\n",
    "\n",
    "#'huggingface/CodeBERTa-small-v1'\n",
    "\n",
    "# CodeBERT (Python, Java, JavaScript, PHP, Ruby, Go)"
   ]
  },
  {
   "cell_type": "code",
   "execution_count": 19,
   "metadata": {
    "colab": {
     "base_uri": "https://localhost:8080/",
     "referenced_widgets": [
      "682cfd4265f94a0b97ff5d98bd2a11a9",
      "e8108f8b5e5f45308017ca3a3e56ec5e",
      "be5aa980982a44f5a895b09d0499b3c4",
      "83b35cc58b0d4bc2b821f0db328be9c7",
      "c12671d2002c4e6b8d753612aa675ab9"
     ]
    },
    "id": "Z3ZCQfKfCy_I",
    "outputId": "d5eef11a-5a8f-458e-8fc2-1575beedb7ec"
   },
   "outputs": [
    {
     "data": {
      "application/vnd.jupyter.widget-view+json": {
       "model_id": "8512c043374c43afb7eb9367937a1864",
       "version_major": 2,
       "version_minor": 0
      },
      "text/plain": [
       "Downloading:   0%|          | 0.00/28.0 [00:00<?, ?B/s]"
      ]
     },
     "metadata": {},
     "output_type": "display_data"
    },
    {
     "data": {
      "application/vnd.jupyter.widget-view+json": {
       "model_id": "5f6429b4649f4f9ab3341c079b7c0ef4",
       "version_major": 2,
       "version_minor": 0
      },
      "text/plain": [
       "Downloading:   0%|          | 0.00/570 [00:00<?, ?B/s]"
      ]
     },
     "metadata": {},
     "output_type": "display_data"
    },
    {
     "data": {
      "application/vnd.jupyter.widget-view+json": {
       "model_id": "579fbd6d832f40cbab1b137bf05e7eb9",
       "version_major": 2,
       "version_minor": 0
      },
      "text/plain": [
       "Downloading:   0%|          | 0.00/226k [00:00<?, ?B/s]"
      ]
     },
     "metadata": {},
     "output_type": "display_data"
    },
    {
     "data": {
      "application/vnd.jupyter.widget-view+json": {
       "model_id": "d473336965924ff8a231ab062896760d",
       "version_major": 2,
       "version_minor": 0
      },
      "text/plain": [
       "Downloading:   0%|          | 0.00/455k [00:00<?, ?B/s]"
      ]
     },
     "metadata": {},
     "output_type": "display_data"
    },
    {
     "data": {
      "application/vnd.jupyter.widget-view+json": {
       "model_id": "35c0f7b6c8b24f27a6e5a9f2462a0e29",
       "version_major": 2,
       "version_minor": 0
      },
      "text/plain": [
       "Downloading:   0%|          | 0.00/420M [00:00<?, ?B/s]"
      ]
     },
     "metadata": {},
     "output_type": "display_data"
    },
    {
     "name": "stderr",
     "output_type": "stream",
     "text": [
      "Some weights of the model checkpoint at bert-base-uncased were not used when initializing BertModel: ['cls.predictions.transform.LayerNorm.weight', 'cls.predictions.decoder.weight', 'cls.predictions.transform.dense.bias', 'cls.seq_relationship.weight', 'cls.seq_relationship.bias', 'cls.predictions.transform.dense.weight', 'cls.predictions.transform.LayerNorm.bias', 'cls.predictions.bias']\n",
      "- This IS expected if you are initializing BertModel from the checkpoint of a model trained on another task or with another architecture (e.g. initializing a BertForSequenceClassification model from a BertForPreTraining model).\n",
      "- This IS NOT expected if you are initializing BertModel from the checkpoint of a model that you expect to be exactly identical (initializing a BertForSequenceClassification model from a BertForSequenceClassification model).\n"
     ]
    }
   ],
   "source": [
    "tokenizer = AutoTokenizer.from_pretrained(PRE_TRAINED_MODEL_NAME)\n",
    "bert_model = BertModel.from_pretrained(PRE_TRAINED_MODEL_NAME, return_dict=False)#, num_labels = len(label_dict)) # for transformer 4.x"
   ]
  },
  {
   "cell_type": "markdown",
   "metadata": {
    "id": "LQhtLGkOssge"
   },
   "source": [
    "### Filter #token >256"
   ]
  },
  {
   "cell_type": "code",
   "execution_count": 20,
   "metadata": {
    "colab": {
     "base_uri": "https://localhost:8080/"
    },
    "id": "EYX89X12Dm8a",
    "outputId": "8ea02223-234e-46d8-d922-9f0be632f72d"
   },
   "outputs": [
    {
     "name": "stderr",
     "output_type": "stream",
     "text": [
      "Token indices sequence length is longer than the specified maximum sequence length for this model (866 > 512). Running this sequence through the model will result in indexing errors\n"
     ]
    }
   ],
   "source": [
    "token_lens = []\n",
    "\n",
    "for txt in df.func:\n",
    "    tokens = tokenizer.encode(txt)  # ), max_length=512, truncation=True)\n",
    "    token_lens.append(len(tokens))\n"
   ]
  },
  {
   "cell_type": "code",
   "execution_count": 21,
   "metadata": {
    "colab": {
     "base_uri": "https://localhost:8080/",
     "height": 563
    },
    "id": "UK4R5znpDybi",
    "outputId": "5b21d5d8-7d04-4fba-d322-7b0f91fba62e"
   },
   "outputs": [
    {
     "name": "stderr",
     "output_type": "stream",
     "text": [
      "/users/PCS0256/jsu/.local/lib/python3.6/site-packages/seaborn/distributions.py:2619: FutureWarning: `distplot` is a deprecated function and will be removed in a future version. Please adapt your code to use either `displot` (a figure-level function with similar flexibility) or `histplot` (an axes-level function for histograms).\n",
      "  warnings.warn(msg, FutureWarning)\n"
     ]
    },
    {
     "data": {
      "image/png": "[encoded data removed]",
      "text/plain": [
       "<Figure size 864x576 with 1 Axes>"
      ]
     },
     "metadata": {
      "image/png": {
       "height": 489,
       "width": 774
      }
     },
     "output_type": "display_data"
    }
   ],
   "source": [
    "sns.distplot(token_lens)\n",
    "plt.xlim([0, 2000]);\n",
    "plt.xlabel('Token count');"
   ]
  },
  {
   "cell_type": "code",
   "execution_count": 22,
   "metadata": {
    "id": "2jKAlaoitCnQ"
   },
   "outputs": [],
   "source": [
    "df['len_tokens'] = token_lens"
   ]
  },
  {
   "cell_type": "code",
   "execution_count": 23,
   "metadata": {
    "id": "TaR96K1kxiV9"
   },
   "outputs": [],
   "source": [
    "df = df[df['len_tokens'] <= 256]"
   ]
  },
  {
   "cell_type": "markdown",
   "metadata": {
    "id": "rrYcZbsiiuc_"
   },
   "source": [
    "## MAX_LEN"
   ]
  },
  {
   "cell_type": "code",
   "execution_count": 24,
   "metadata": {
    "id": "o3zrFjmbFA9i"
   },
   "outputs": [],
   "source": [
    "MAX_LEN = 256"
   ]
  },
  {
   "cell_type": "markdown",
   "metadata": {
    "id": "JTC3b1PxhtZs"
   },
   "source": [
    "## Dataset class"
   ]
  },
  {
   "cell_type": "code",
   "execution_count": 25,
   "metadata": {
    "id": "SUUUWVrZFE7v"
   },
   "outputs": [],
   "source": [
    "class CustomDataset(Dataset):\n",
    "\n",
    "    def __init__(self, funcs, labels, tokenizer, max_len):\n",
    "        self.funcs = funcs\n",
    "        self.labels = labels\n",
    "        self.tokenizer = tokenizer\n",
    "        self.max_len = max_len\n",
    "\n",
    "    def __len__(self):\n",
    "        return len(self.funcs)\n",
    "\n",
    "    def __getitem__(self, item):\n",
    "        func = str(self.funcs[item])\n",
    "        label = self.labels[item]\n",
    "\n",
    "        encoding = self.tokenizer.encode_plus(\n",
    "            func,\n",
    "            add_special_tokens=True,\n",
    "            max_length=self.max_len,\n",
    "            return_token_type_ids=False,\n",
    "            truncation=True,\n",
    "            padding='max_length',\n",
    "            return_attention_mask=True,\n",
    "            return_tensors='pt',\n",
    "        )\n",
    "\n",
    "        return {\n",
    "            'func_text': func,\n",
    "            'input_ids': encoding['input_ids'].flatten(),\n",
    "            'attention_mask': encoding['attention_mask'].flatten(),\n",
    "            'labels': torch.tensor(label, dtype=torch.long)\n",
    "        }\n"
   ]
  },
  {
   "cell_type": "code",
   "execution_count": 26,
   "metadata": {
    "id": "PxSgfsRDFdbM"
   },
   "outputs": [],
   "source": [
    "df_train, df_test = train_test_split(df, test_size=0.1, random_state=RANDOM_SEED)\n",
    "df_val, df_test = train_test_split(df_test, test_size=0.5, random_state=RANDOM_SEED)"
   ]
  },
  {
   "cell_type": "code",
   "execution_count": 27,
   "metadata": {
    "colab": {
     "base_uri": "https://localhost:8080/"
    },
    "id": "mfWNDR30Fk7A",
    "outputId": "9176e04d-7a22-45d4-a918-25b376548007"
   },
   "outputs": [
    {
     "data": {
      "text/plain": [
       "((10196, 7), (566, 7), (567, 7))"
      ]
     },
     "execution_count": 27,
     "metadata": {},
     "output_type": "execute_result"
    }
   ],
   "source": [
    "df_train.shape, df_val.shape, df_test.shape"
   ]
  },
  {
   "cell_type": "code",
   "execution_count": 28,
   "metadata": {
    "id": "PCEePTgiAuFA"
   },
   "outputs": [],
   "source": [
    "data_collator = DefaultDataCollator(return_tensors=\"pt\")"
   ]
  },
  {
   "cell_type": "code",
   "execution_count": 29,
   "metadata": {
    "id": "8uUxFAGJplH4"
   },
   "outputs": [],
   "source": [
    "possible_labels = df_train.label.unique()"
   ]
  },
  {
   "cell_type": "code",
   "execution_count": 30,
   "metadata": {
    "colab": {
     "base_uri": "https://localhost:8080/"
    },
    "id": "3sQkMKUPpsft",
    "outputId": "413368f2-d66a-4d73-8ef7-a9252430e5b3"
   },
   "outputs": [
    {
     "data": {
      "text/plain": [
       "{1: 0, 0: 1}"
      ]
     },
     "execution_count": 30,
     "metadata": {},
     "output_type": "execute_result"
    }
   ],
   "source": [
    "label_dict = {}\n",
    "for index, possible_label in enumerate(possible_labels):\n",
    "    label_dict[possible_label] = index\n",
    "    \n",
    "label_dict"
   ]
  },
  {
   "cell_type": "markdown",
   "metadata": {
    "id": "pqvYwD8bhvuk"
   },
   "source": [
    "## Dataloader"
   ]
  },
  {
   "cell_type": "code",
   "execution_count": 31,
   "metadata": {
    "id": "GUf1VUFMHs7s"
   },
   "outputs": [],
   "source": [
    "def create_data_loader(df, tokenizer, max_len, batch_size):\n",
    "    ds = CustomDataset(\n",
    "        funcs=df.func.to_numpy(),\n",
    "        labels=df.label.to_numpy(),\n",
    "        tokenizer=tokenizer,\n",
    "        max_len=max_len\n",
    "    )\n",
    "\n",
    "    return DataLoader(\n",
    "        ds,\n",
    "        batch_size=batch_size,\n",
    "        # collate_fn=data_collator, for some reason it removed 'func_text'\n",
    "        shuffle=True,  # shuffles the data and then batches.\n",
    "        num_workers=2  # optimization\n",
    "    )\n"
   ]
  },
  {
   "cell_type": "markdown",
   "metadata": {
    "id": "lWPIHwMZizcu"
   },
   "source": [
    "## BATCH_SIZE"
   ]
  },
  {
   "cell_type": "code",
   "execution_count": 32,
   "metadata": {
    "id": "5bUXs5qoFzz9"
   },
   "outputs": [],
   "source": [
    "BATCH_SIZE = 16\n",
    "\n",
    "train_data_loader = create_data_loader(df_train, tokenizer, MAX_LEN, BATCH_SIZE)\n",
    "val_data_loader = create_data_loader(df_val, tokenizer, MAX_LEN, BATCH_SIZE)\n",
    "test_data_loader = create_data_loader(df_test, tokenizer, MAX_LEN, BATCH_SIZE)"
   ]
  },
  {
   "cell_type": "code",
   "execution_count": 33,
   "metadata": {
    "colab": {
     "base_uri": "https://localhost:8080/",
     "height": 423
    },
    "id": "F7ffvRN1IsCY",
    "outputId": "12b3a45e-5bfc-48ae-c3f7-f6ecc8ae4ba3"
   },
   "outputs": [
    {
     "data": {
      "text/html": [
       "<div>\n",
       "<style scoped>\n",
       "    .dataframe tbody tr th:only-of-type {\n",
       "        vertical-align: middle;\n",
       "    }\n",
       "\n",
       "    .dataframe tbody tr th {\n",
       "        vertical-align: top;\n",
       "    }\n",
       "\n",
       "    .dataframe thead th {\n",
       "        text-align: right;\n",
       "    }\n",
       "</style>\n",
       "<table border=\"1\" class=\"dataframe\">\n",
       "  <thead>\n",
       "    <tr style=\"text-align: right;\">\n",
       "      <th></th>\n",
       "      <th>id</th>\n",
       "      <th>func</th>\n",
       "      <th>label</th>\n",
       "      <th>project</th>\n",
       "      <th>commit_id</th>\n",
       "      <th>func_length</th>\n",
       "      <th>len_tokens</th>\n",
       "    </tr>\n",
       "  </thead>\n",
       "  <tbody>\n",
       "    <tr>\n",
       "      <th>19118</th>\n",
       "      <td>23884</td>\n",
       "      <td>int qemu_strtoul(const char *nptr, const char ...</td>\n",
       "      <td>1</td>\n",
       "      <td>qemu</td>\n",
       "      <td>47d4be12c3997343e436c6cca89aefbbbeb70863</td>\n",
       "      <td>405</td>\n",
       "      <td>129</td>\n",
       "    </tr>\n",
       "    <tr>\n",
       "      <th>935</th>\n",
       "      <td>1154</td>\n",
       "      <td>static int find_unused_picture(MpegEncContext ...</td>\n",
       "      <td>0</td>\n",
       "      <td>FFmpeg</td>\n",
       "      <td>a553c6a347d3d28d7ee44c3df3d5c4ee780dba23</td>\n",
       "      <td>436</td>\n",
       "      <td>130</td>\n",
       "    </tr>\n",
       "    <tr>\n",
       "      <th>14898</th>\n",
       "      <td>18630</td>\n",
       "      <td>static int compare_floats(const float *a, cons...</td>\n",
       "      <td>0</td>\n",
       "      <td>FFmpeg</td>\n",
       "      <td>e53c9065ca08a9153ecc73a6a8940bcc6d667e58</td>\n",
       "      <td>389</td>\n",
       "      <td>140</td>\n",
       "    </tr>\n",
       "    <tr>\n",
       "      <th>7469</th>\n",
       "      <td>9284</td>\n",
       "      <td>static inline void vring_used_idx_set(VirtQueu...</td>\n",
       "      <td>1</td>\n",
       "      <td>qemu</td>\n",
       "      <td>e0e2d644096c79a71099b176d08f465f6803a8b1</td>\n",
       "      <td>348</td>\n",
       "      <td>147</td>\n",
       "    </tr>\n",
       "    <tr>\n",
       "      <th>16980</th>\n",
       "      <td>21214</td>\n",
       "      <td>static void s390_pci_generate_error_event(uint...</td>\n",
       "      <td>0</td>\n",
       "      <td>qemu</td>\n",
       "      <td>5d1abf234462d13bef3617cc2c55b6815703ddf2</td>\n",
       "      <td>260</td>\n",
       "      <td>88</td>\n",
       "    </tr>\n",
       "    <tr>\n",
       "      <th>...</th>\n",
       "      <td>...</td>\n",
       "      <td>...</td>\n",
       "      <td>...</td>\n",
       "      <td>...</td>\n",
       "      <td>...</td>\n",
       "      <td>...</td>\n",
       "      <td>...</td>\n",
       "    </tr>\n",
       "    <tr>\n",
       "      <th>27220</th>\n",
       "      <td>26390</td>\n",
       "      <td>static void idr(H264Context *h){\\n\\n    int i;...</td>\n",
       "      <td>0</td>\n",
       "      <td>FFmpeg</td>\n",
       "      <td>3dea28cc2ef22861347918b6740c4c05c46a6614</td>\n",
       "      <td>282</td>\n",
       "      <td>131</td>\n",
       "    </tr>\n",
       "    <tr>\n",
       "      <th>12402</th>\n",
       "      <td>15440</td>\n",
       "      <td>static int pci_set_default_subsystem_id(PCIDev...</td>\n",
       "      <td>0</td>\n",
       "      <td>qemu</td>\n",
       "      <td>5e434f4e60f8e5a9dadf324b3ee31c3ce0e80165</td>\n",
       "      <td>270</td>\n",
       "      <td>121</td>\n",
       "    </tr>\n",
       "    <tr>\n",
       "      <th>12862</th>\n",
       "      <td>16014</td>\n",
       "      <td>static inline uint32_t ucf64_stoi(float32 s)\\n...</td>\n",
       "      <td>0</td>\n",
       "      <td>qemu</td>\n",
       "      <td>e8ede0a8bb5298a6979bcf7ed84ef64a64a4e3fe</td>\n",
       "      <td>148</td>\n",
       "      <td>49</td>\n",
       "    </tr>\n",
       "    <tr>\n",
       "      <th>2027</th>\n",
       "      <td>2470</td>\n",
       "      <td>static void FUNC(transquant_bypass8x8)(uint8_t...</td>\n",
       "      <td>0</td>\n",
       "      <td>FFmpeg</td>\n",
       "      <td>a246d06fe0dc6c2ea65e95327624b4537ff9bd0d</td>\n",
       "      <td>380</td>\n",
       "      <td>125</td>\n",
       "    </tr>\n",
       "    <tr>\n",
       "      <th>17444</th>\n",
       "      <td>21789</td>\n",
       "      <td>static inline uint64_t ram_chunk_index(const u...</td>\n",
       "      <td>1</td>\n",
       "      <td>qemu</td>\n",
       "      <td>60fe637bf0e4d7989e21e50f52526444765c63b4</td>\n",
       "      <td>204</td>\n",
       "      <td>70</td>\n",
       "    </tr>\n",
       "  </tbody>\n",
       "</table>\n",
       "<p>10196 rows × 7 columns</p>\n",
       "</div>"
      ],
      "text/plain": [
       "          id                                               func  label  \\\n",
       "19118  23884  int qemu_strtoul(const char *nptr, const char ...      1   \n",
       "935     1154  static int find_unused_picture(MpegEncContext ...      0   \n",
       "14898  18630  static int compare_floats(const float *a, cons...      0   \n",
       "7469    9284  static inline void vring_used_idx_set(VirtQueu...      1   \n",
       "16980  21214  static void s390_pci_generate_error_event(uint...      0   \n",
       "...      ...                                                ...    ...   \n",
       "27220  26390  static void idr(H264Context *h){\\n\\n    int i;...      0   \n",
       "12402  15440  static int pci_set_default_subsystem_id(PCIDev...      0   \n",
       "12862  16014  static inline uint32_t ucf64_stoi(float32 s)\\n...      0   \n",
       "2027    2470  static void FUNC(transquant_bypass8x8)(uint8_t...      0   \n",
       "17444  21789  static inline uint64_t ram_chunk_index(const u...      1   \n",
       "\n",
       "      project                                 commit_id  func_length  \\\n",
       "19118    qemu  47d4be12c3997343e436c6cca89aefbbbeb70863          405   \n",
       "935    FFmpeg  a553c6a347d3d28d7ee44c3df3d5c4ee780dba23          436   \n",
       "14898  FFmpeg  e53c9065ca08a9153ecc73a6a8940bcc6d667e58          389   \n",
       "7469     qemu  e0e2d644096c79a71099b176d08f465f6803a8b1          348   \n",
       "16980    qemu  5d1abf234462d13bef3617cc2c55b6815703ddf2          260   \n",
       "...       ...                                       ...          ...   \n",
       "27220  FFmpeg  3dea28cc2ef22861347918b6740c4c05c46a6614          282   \n",
       "12402    qemu  5e434f4e60f8e5a9dadf324b3ee31c3ce0e80165          270   \n",
       "12862    qemu  e8ede0a8bb5298a6979bcf7ed84ef64a64a4e3fe          148   \n",
       "2027   FFmpeg  a246d06fe0dc6c2ea65e95327624b4537ff9bd0d          380   \n",
       "17444    qemu  60fe637bf0e4d7989e21e50f52526444765c63b4          204   \n",
       "\n",
       "       len_tokens  \n",
       "19118         129  \n",
       "935           130  \n",
       "14898         140  \n",
       "7469          147  \n",
       "16980          88  \n",
       "...           ...  \n",
       "27220         131  \n",
       "12402         121  \n",
       "12862          49  \n",
       "2027          125  \n",
       "17444          70  \n",
       "\n",
       "[10196 rows x 7 columns]"
      ]
     },
     "execution_count": 33,
     "metadata": {},
     "output_type": "execute_result"
    }
   ],
   "source": [
    "df_train"
   ]
  },
  {
   "cell_type": "code",
   "execution_count": 34,
   "metadata": {
    "colab": {
     "base_uri": "https://localhost:8080/"
    },
    "id": "PL2QlfZhGL-Z",
    "outputId": "a51bb7d2-c6a5-4381-99af-c4bb148ec7cc"
   },
   "outputs": [
    {
     "data": {
      "text/plain": [
       "dict_keys(['func_text', 'input_ids', 'attention_mask', 'labels'])"
      ]
     },
     "execution_count": 34,
     "metadata": {},
     "output_type": "execute_result"
    }
   ],
   "source": [
    "data = next(iter(train_data_loader))\n",
    "data.keys()"
   ]
  },
  {
   "cell_type": "code",
   "execution_count": 35,
   "metadata": {
    "colab": {
     "base_uri": "https://localhost:8080/"
    },
    "id": "uVSURj8uGVyY",
    "outputId": "c64972d7-bfb3-46fb-c23c-cce399de88f5"
   },
   "outputs": [
    {
     "name": "stdout",
     "output_type": "stream",
     "text": [
      "torch.Size([16, 256])\n",
      "torch.Size([16, 256])\n",
      "torch.Size([16])\n"
     ]
    }
   ],
   "source": [
    "print(data['input_ids'].shape)\n",
    "print(data['attention_mask'].shape)\n",
    "print(data['labels'].shape)"
   ]
  },
  {
   "cell_type": "markdown",
   "metadata": {
    "id": "dVS5rgYaG_Kr"
   },
   "source": [
    "### Sample test"
   ]
  },
  {
   "cell_type": "code",
   "execution_count": 36,
   "metadata": {
    "colab": {
     "base_uri": "https://localhost:8080/"
    },
    "id": "-ARlw4_rGssn",
    "outputId": "58f46d0f-44a9-4b32-e7f3-71ab03839c0b"
   },
   "outputs": [
    {
     "name": "stdout",
     "output_type": "stream",
     "text": [
      "   Tokens: ['static', 'inline', 'void', 'gen', '_', 'op', '_', 'eva', '##l', '_', 'f', '##bo', '(', 'tc', '##g', '##v', 'ds', '##t', ',', 'tc', '##g', '##v', 'sr', '##c', ',', 'unsigned', 'int', 'fcc', '_', 'offset', ')', '{', 'gen', '_', 'mo', '##v', '_', 'reg', '_', 'fcc', '##0', '(', 'ds', '##t', ',', 'sr', '##c', ',', 'fcc', '_', 'offset', ')', ';', 'gen', '_', 'mo', '##v', '_', 'reg', '_', 'fcc', '##1', '(', 'cpu', '_', 't', '##mp', '##0', ',', 'sr', '##c', ',', 'fcc', '_', 'offset', ')', ';', 'tc', '##g', '_', 'gen', '_', 'and', '_', 't', '##l', '(', 'ds', '##t', ',', 'ds', '##t', ',', 'cpu', '_', 't', '##mp', '##0', ')', ';', 'tc', '##g', '_', 'gen', '_', 'x', '##ori', '_', 't', '##l', '(', 'ds', '##t', ',', 'ds', '##t', ',', '0', '##x', '##1', ')', ';', '}']\n",
      "Token IDs: [10763, 23881, 11675, 8991, 1035, 6728, 1035, 9345, 2140, 1035, 1042, 5092, 1006, 22975, 2290, 2615, 16233, 2102, 1010, 22975, 2290, 2615, 5034, 2278, 1010, 27121, 20014, 14420, 1035, 16396, 1007, 1063, 8991, 1035, 9587, 2615, 1035, 19723, 1035, 14420, 2692, 1006, 16233, 2102, 1010, 5034, 2278, 1010, 14420, 1035, 16396, 1007, 1025, 8991, 1035, 9587, 2615, 1035, 19723, 1035, 14420, 2487, 1006, 17368, 1035, 1056, 8737, 2692, 1010, 5034, 2278, 1010, 14420, 1035, 16396, 1007, 1025, 22975, 2290, 1035, 8991, 1035, 1998, 1035, 1056, 2140, 1006, 16233, 2102, 1010, 16233, 2102, 1010, 17368, 1035, 1056, 8737, 2692, 1007, 1025, 22975, 2290, 1035, 8991, 1035, 1060, 10050, 1035, 1056, 2140, 1006, 16233, 2102, 1010, 16233, 2102, 1010, 1014, 2595, 2487, 1007, 1025, 1065]\n"
     ]
    }
   ],
   "source": [
    "sample_txt = df[\"func\"].iloc[-1]\n",
    "tokens = tokenizer.tokenize(sample_txt)\n",
    "token_ids = tokenizer.convert_tokens_to_ids(tokens)\n",
    "\n",
    "#print(f' Sentence: {sample_txt}')\n",
    "print(f'   Tokens: {tokens}')\n",
    "print(f'Token IDs: {token_ids}')\n"
   ]
  },
  {
   "cell_type": "code",
   "execution_count": 37,
   "metadata": {
    "colab": {
     "base_uri": "https://localhost:8080/"
    },
    "id": "ubi3i6jdOJjo",
    "outputId": "dfb46386-99d6-48bd-c7b0-b96fb23be20b"
   },
   "outputs": [
    {
     "name": "stdout",
     "output_type": "stream",
     "text": [
      "[SEP] 102\n",
      "[CLS] 101\n",
      "[PAD] 0\n",
      "[UNK] 100\n"
     ]
    }
   ],
   "source": [
    "print(tokenizer.sep_token, tokenizer.sep_token_id)\n",
    "print(tokenizer.cls_token, tokenizer.cls_token_id)\n",
    "print(tokenizer.pad_token, tokenizer.pad_token_id)\n",
    "print(tokenizer.unk_token, tokenizer.unk_token_id)"
   ]
  },
  {
   "cell_type": "code",
   "execution_count": 38,
   "metadata": {
    "colab": {
     "base_uri": "https://localhost:8080/"
    },
    "id": "5Wec_aDyOVdY",
    "outputId": "46f13238-f079-4f4b-fa02-392cadf11f8d"
   },
   "outputs": [
    {
     "data": {
      "text/plain": [
       "dict_keys(['input_ids', 'attention_mask'])"
      ]
     },
     "execution_count": 38,
     "metadata": {},
     "output_type": "execute_result"
    }
   ],
   "source": [
    "encoding = tokenizer.encode_plus(\n",
    "    sample_txt,\n",
    "    max_length=MAX_LEN,\n",
    "    add_special_tokens=True,  # Add '[CLS]' and '[SEP]'\n",
    "    return_token_type_ids=False,\n",
    "    truncation=True,\n",
    "    padding='max_length',\n",
    "    return_attention_mask=True,\n",
    "    return_tensors='pt',  # Return PyTorch tensors\n",
    ")\n",
    "\n",
    "encoding.keys()\n"
   ]
  },
  {
   "cell_type": "code",
   "execution_count": 39,
   "metadata": {
    "colab": {
     "base_uri": "https://localhost:8080/"
    },
    "id": "01wlfB95OZJD",
    "outputId": "4387c1dc-78a1-4172-97a2-d5143e5a1627"
   },
   "outputs": [
    {
     "name": "stdout",
     "output_type": "stream",
     "text": [
      "256\n"
     ]
    },
    {
     "data": {
      "text/plain": [
       "tensor([  101, 10763, 23881, 11675,  8991,  1035,  6728,  1035,  9345,  2140,\n",
       "         1035,  1042,  5092,  1006, 22975,  2290,  2615, 16233,  2102,  1010,\n",
       "        22975,  2290,  2615,  5034,  2278,  1010, 27121, 20014, 14420,  1035,\n",
       "        16396,  1007,  1063,  8991,  1035,  9587,  2615,  1035, 19723,  1035,\n",
       "        14420,  2692,  1006, 16233,  2102,  1010,  5034,  2278,  1010, 14420,\n",
       "         1035, 16396,  1007,  1025,  8991,  1035,  9587,  2615,  1035, 19723,\n",
       "         1035, 14420,  2487,  1006, 17368,  1035,  1056,  8737,  2692,  1010,\n",
       "         5034,  2278,  1010, 14420,  1035, 16396,  1007,  1025, 22975,  2290,\n",
       "         1035,  8991,  1035,  1998,  1035,  1056,  2140,  1006, 16233,  2102,\n",
       "         1010, 16233,  2102,  1010, 17368,  1035,  1056,  8737,  2692,  1007,\n",
       "         1025, 22975,  2290,  1035,  8991,  1035,  1060, 10050,  1035,  1056,\n",
       "         2140,  1006, 16233,  2102,  1010, 16233,  2102,  1010,  1014,  2595,\n",
       "         2487,  1007,  1025,  1065,   102,     0,     0,     0,     0,     0,\n",
       "            0,     0,     0,     0,     0,     0,     0,     0,     0,     0,\n",
       "            0,     0,     0,     0,     0,     0,     0,     0,     0,     0,\n",
       "            0,     0,     0,     0,     0,     0,     0,     0,     0,     0,\n",
       "            0,     0,     0,     0,     0,     0,     0,     0,     0,     0,\n",
       "            0,     0,     0,     0,     0,     0,     0,     0,     0,     0,\n",
       "            0,     0,     0,     0,     0,     0,     0,     0,     0,     0,\n",
       "            0,     0,     0,     0,     0,     0,     0,     0,     0,     0,\n",
       "            0,     0,     0,     0,     0,     0,     0,     0,     0,     0,\n",
       "            0,     0,     0,     0,     0,     0,     0,     0,     0,     0,\n",
       "            0,     0,     0,     0,     0,     0,     0,     0,     0,     0,\n",
       "            0,     0,     0,     0,     0,     0,     0,     0,     0,     0,\n",
       "            0,     0,     0,     0,     0,     0,     0,     0,     0,     0,\n",
       "            0,     0,     0,     0,     0,     0])"
      ]
     },
     "execution_count": 39,
     "metadata": {},
     "output_type": "execute_result"
    }
   ],
   "source": [
    "print(len(encoding['input_ids'][0]))\n",
    "encoding['input_ids'][0]"
   ]
  },
  {
   "cell_type": "code",
   "execution_count": 40,
   "metadata": {
    "colab": {
     "base_uri": "https://localhost:8080/"
    },
    "id": "vdIVRfKuOakm",
    "outputId": "888d3b70-cbd8-4126-a33d-e25bda6a2b3d"
   },
   "outputs": [
    {
     "name": "stdout",
     "output_type": "stream",
     "text": [
      "256\n"
     ]
    },
    {
     "data": {
      "text/plain": [
       "tensor([[1, 1, 1, 1, 1, 1, 1, 1, 1, 1, 1, 1, 1, 1, 1, 1, 1, 1, 1, 1, 1, 1, 1, 1,\n",
       "         1, 1, 1, 1, 1, 1, 1, 1, 1, 1, 1, 1, 1, 1, 1, 1, 1, 1, 1, 1, 1, 1, 1, 1,\n",
       "         1, 1, 1, 1, 1, 1, 1, 1, 1, 1, 1, 1, 1, 1, 1, 1, 1, 1, 1, 1, 1, 1, 1, 1,\n",
       "         1, 1, 1, 1, 1, 1, 1, 1, 1, 1, 1, 1, 1, 1, 1, 1, 1, 1, 1, 1, 1, 1, 1, 1,\n",
       "         1, 1, 1, 1, 1, 1, 1, 1, 1, 1, 1, 1, 1, 1, 1, 1, 1, 1, 1, 1, 1, 1, 1, 1,\n",
       "         1, 1, 1, 1, 1, 0, 0, 0, 0, 0, 0, 0, 0, 0, 0, 0, 0, 0, 0, 0, 0, 0, 0, 0,\n",
       "         0, 0, 0, 0, 0, 0, 0, 0, 0, 0, 0, 0, 0, 0, 0, 0, 0, 0, 0, 0, 0, 0, 0, 0,\n",
       "         0, 0, 0, 0, 0, 0, 0, 0, 0, 0, 0, 0, 0, 0, 0, 0, 0, 0, 0, 0, 0, 0, 0, 0,\n",
       "         0, 0, 0, 0, 0, 0, 0, 0, 0, 0, 0, 0, 0, 0, 0, 0, 0, 0, 0, 0, 0, 0, 0, 0,\n",
       "         0, 0, 0, 0, 0, 0, 0, 0, 0, 0, 0, 0, 0, 0, 0, 0, 0, 0, 0, 0, 0, 0, 0, 0,\n",
       "         0, 0, 0, 0, 0, 0, 0, 0, 0, 0, 0, 0, 0, 0, 0, 0]])"
      ]
     },
     "execution_count": 40,
     "metadata": {},
     "output_type": "execute_result"
    }
   ],
   "source": [
    "print(len(encoding['attention_mask'][0]))\n",
    "encoding['attention_mask']"
   ]
  },
  {
   "cell_type": "code",
   "execution_count": 41,
   "metadata": {
    "colab": {
     "base_uri": "https://localhost:8080/"
    },
    "id": "66o27yTOOcFm",
    "outputId": "c5e42899-d9b1-40a9-851b-c2f48d4d62b8"
   },
   "outputs": [
    {
     "name": "stdout",
     "output_type": "stream",
     "text": [
      "['[CLS]', 'static', 'inline', 'void', 'gen', '_', 'op', '_', 'eva', '##l', '_', 'f', '##bo', '(', 'tc', '##g', '##v', 'ds', '##t', ',', 'tc', '##g', '##v', 'sr', '##c', ',', 'unsigned', 'int', 'fcc', '_', 'offset', ')', '{', 'gen', '_', 'mo', '##v', '_', 'reg', '_', 'fcc', '##0', '(', 'ds', '##t', ',', 'sr', '##c', ',', 'fcc', '_', 'offset', ')', ';', 'gen', '_', 'mo', '##v', '_', 'reg', '_', 'fcc', '##1', '(', 'cpu', '_', 't', '##mp', '##0', ',', 'sr', '##c', ',', 'fcc', '_', 'offset', ')', ';', 'tc', '##g', '_', 'gen', '_', 'and', '_', 't', '##l', '(', 'ds', '##t', ',', 'ds', '##t', ',', 'cpu', '_', 't', '##mp', '##0', ')', ';', 'tc', '##g', '_', 'gen', '_', 'x', '##ori', '_', 't', '##l', '(', 'ds', '##t', ',', 'ds', '##t', ',', '0', '##x', '##1', ')', ';', '}', '[SEP]', '[PAD]', '[PAD]', '[PAD]', '[PAD]', '[PAD]', '[PAD]', '[PAD]', '[PAD]', '[PAD]', '[PAD]', '[PAD]', '[PAD]', '[PAD]', '[PAD]', '[PAD]', '[PAD]', '[PAD]', '[PAD]', '[PAD]', '[PAD]', '[PAD]', '[PAD]', '[PAD]', '[PAD]', '[PAD]', '[PAD]', '[PAD]', '[PAD]', '[PAD]', '[PAD]', '[PAD]', '[PAD]', '[PAD]', '[PAD]', '[PAD]', '[PAD]', '[PAD]', '[PAD]', '[PAD]', '[PAD]', '[PAD]', '[PAD]', '[PAD]', '[PAD]', '[PAD]', '[PAD]', '[PAD]', '[PAD]', '[PAD]', '[PAD]', '[PAD]', '[PAD]', '[PAD]', '[PAD]', '[PAD]', '[PAD]', '[PAD]', '[PAD]', '[PAD]', '[PAD]', '[PAD]', '[PAD]', '[PAD]', '[PAD]', '[PAD]', '[PAD]', '[PAD]', '[PAD]', '[PAD]', '[PAD]', '[PAD]', '[PAD]', '[PAD]', '[PAD]', '[PAD]', '[PAD]', '[PAD]', '[PAD]', '[PAD]', '[PAD]', '[PAD]', '[PAD]', '[PAD]', '[PAD]', '[PAD]', '[PAD]', '[PAD]', '[PAD]', '[PAD]', '[PAD]', '[PAD]', '[PAD]', '[PAD]', '[PAD]', '[PAD]', '[PAD]', '[PAD]', '[PAD]', '[PAD]', '[PAD]', '[PAD]', '[PAD]', '[PAD]', '[PAD]', '[PAD]', '[PAD]', '[PAD]', '[PAD]', '[PAD]', '[PAD]', '[PAD]', '[PAD]', '[PAD]', '[PAD]', '[PAD]', '[PAD]', '[PAD]', '[PAD]', '[PAD]', '[PAD]', '[PAD]', '[PAD]', '[PAD]', '[PAD]', '[PAD]', '[PAD]', '[PAD]', '[PAD]', '[PAD]', '[PAD]', '[PAD]']\n"
     ]
    }
   ],
   "source": [
    "print(tokenizer.convert_ids_to_tokens(encoding['input_ids'][0]))"
   ]
  },
  {
   "cell_type": "code",
   "execution_count": 42,
   "metadata": {
    "id": "rcbsTjHNN8aq"
   },
   "outputs": [],
   "source": [
    "last_hidden_state, pooled_output = bert_model(\n",
    "    input_ids=encoding['input_ids'],\n",
    "    attention_mask=encoding['attention_mask']\n",
    ")\n"
   ]
  },
  {
   "cell_type": "code",
   "execution_count": 43,
   "metadata": {
    "colab": {
     "base_uri": "https://localhost:8080/"
    },
    "id": "tCyAYKESS5IG",
    "outputId": "e59d9ab3-8c62-4781-f0e5-4327896e1baf"
   },
   "outputs": [
    {
     "name": "stdout",
     "output_type": "stream",
     "text": [
      "torch.Size([1, 256, 768])\n",
      "768\n",
      "torch.Size([1, 768])\n"
     ]
    }
   ],
   "source": [
    "print(last_hidden_state.shape)\n",
    "print(bert_model.config.hidden_size)\n",
    "print(pooled_output.shape)"
   ]
  },
  {
   "cell_type": "markdown",
   "metadata": {
    "id": "tCy8z3g9Hl4X"
   },
   "source": [
    "# Model"
   ]
  },
  {
   "cell_type": "code",
   "execution_count": 44,
   "metadata": {
    "id": "hjq3KnbWjn53"
   },
   "outputs": [],
   "source": [
    "#BertModel.from_pretrained(PRE_TRAINED_MODEL_NAME).config"
   ]
  },
  {
   "cell_type": "code",
   "execution_count": 45,
   "metadata": {
    "id": "h2I40Z9KGwiY"
   },
   "outputs": [],
   "source": [
    "class CustomModel(nn.Module):\n",
    "\n",
    "    def __init__(self, n_classes):\n",
    "        super(CustomModel, self).__init__()\n",
    "        self.bert = BertModel.from_pretrained(PRE_TRAINED_MODEL_NAME)\n",
    "        #self.drop = nn.Dropout(p=0.3)\n",
    "\n",
    "        self.lstm = nn.LSTM(self.bert.config.hidden_size,\n",
    "                            self.bert.config.hidden_size, bidirectional=False)\n",
    "\n",
    "        self.linear = nn.Linear(self.bert.config.hidden_size,\n",
    "                                n_classes)  # fully connected layer\n",
    "\n",
    "    def forward(self, input_ids, attention_mask):\n",
    "        # output from bert\n",
    "        sequence_output, pooled_output = self.bert(\n",
    "            input_ids=input_ids,\n",
    "            attention_mask=attention_mask,\n",
    "            return_dict=False  # for transformer 4.x\n",
    "        )\n",
    "\n",
    "        # Dropout\n",
    "        #output = self.drop(pooled_output)\n",
    "\n",
    "        # LSTM\n",
    "        # extract the 1st token's embeddings\n",
    "        lstm_output, (h, c) = self.lstm(sequence_output)\n",
    "        hidden = torch.cat((lstm_output[:, -1, :self.bert.config.hidden_size],\n",
    "                           lstm_output[:, 0, self.bert.config.hidden_size:]), dim=-1)\n",
    "\n",
    "        # Linear\n",
    "        #output = self.out(output)\n",
    "        # assuming that you are only using the output of the last LSTM cell to perform classification\n",
    "        linear_output = self.linear(\n",
    "            hidden.view(-1, self.bert.config.hidden_size))\n",
    "\n",
    "        output = linear_output\n",
    "\n",
    "        return output\n"
   ]
  },
  {
   "cell_type": "code",
   "execution_count": 46,
   "metadata": {
    "id": "14qqKZDWHw4u"
   },
   "outputs": [],
   "source": [
    "class_names = ['False', 'True']"
   ]
  },
  {
   "cell_type": "code",
   "execution_count": 47,
   "metadata": {
    "colab": {
     "base_uri": "https://localhost:8080/"
    },
    "id": "glNkH5WXHpxv",
    "outputId": "2feab1fc-51e8-45c6-ba55-dc01575fb310"
   },
   "outputs": [
    {
     "name": "stderr",
     "output_type": "stream",
     "text": [
      "Some weights of the model checkpoint at bert-base-uncased were not used when initializing BertModel: ['cls.predictions.transform.LayerNorm.weight', 'cls.predictions.decoder.weight', 'cls.predictions.transform.dense.bias', 'cls.seq_relationship.weight', 'cls.seq_relationship.bias', 'cls.predictions.transform.dense.weight', 'cls.predictions.transform.LayerNorm.bias', 'cls.predictions.bias']\n",
      "- This IS expected if you are initializing BertModel from the checkpoint of a model trained on another task or with another architecture (e.g. initializing a BertForSequenceClassification model from a BertForPreTraining model).\n",
      "- This IS NOT expected if you are initializing BertModel from the checkpoint of a model that you expect to be exactly identical (initializing a BertForSequenceClassification model from a BertForSequenceClassification model).\n"
     ]
    }
   ],
   "source": [
    "model = CustomModel(len(class_names))\n",
    "model = model.to(device)"
   ]
  },
  {
   "cell_type": "code",
   "execution_count": 48,
   "metadata": {
    "colab": {
     "base_uri": "https://localhost:8080/"
    },
    "id": "eRIDy3D5H_fj",
    "outputId": "28027421-1b20-458f-c92a-1937e29df982"
   },
   "outputs": [
    {
     "name": "stdout",
     "output_type": "stream",
     "text": [
      "torch.Size([16, 256])\n",
      "torch.Size([16, 256])\n"
     ]
    }
   ],
   "source": [
    "input_ids = data['input_ids'].to(device)\n",
    "attention_mask = data['attention_mask'].to(device)\n",
    "\n",
    "print(input_ids.shape) # batch size x seq length\n",
    "print(attention_mask.shape) # batch size x seq length"
   ]
  },
  {
   "cell_type": "markdown",
   "metadata": {
    "id": "gd3F4nrfILi5"
   },
   "source": [
    "We'll move the example batch of our training data to the GPU:"
   ]
  },
  {
   "cell_type": "code",
   "execution_count": 49,
   "metadata": {
    "colab": {
     "base_uri": "https://localhost:8080/"
    },
    "id": "g-Zl1japINwL",
    "outputId": "8990b7db-f1ac-4cee-bbab-69b391691a3b"
   },
   "outputs": [
    {
     "data": {
      "text/plain": [
       "tensor([[0.4812, 0.5188],\n",
       "        [0.4954, 0.5046],\n",
       "        [0.5019, 0.4981],\n",
       "        [0.4937, 0.5063],\n",
       "        [0.4810, 0.5190],\n",
       "        [0.4813, 0.5187],\n",
       "        [0.4750, 0.5250],\n",
       "        [0.4759, 0.5241],\n",
       "        [0.4789, 0.5211],\n",
       "        [0.4854, 0.5146],\n",
       "        [0.4813, 0.5187],\n",
       "        [0.4863, 0.5137],\n",
       "        [0.4842, 0.5158],\n",
       "        [0.4798, 0.5202],\n",
       "        [0.4692, 0.5308],\n",
       "        [0.4818, 0.5182]], device='cuda:0', grad_fn=<SoftmaxBackward0>)"
      ]
     },
     "execution_count": 49,
     "metadata": {},
     "output_type": "execute_result"
    }
   ],
   "source": [
    "F.softmax(model(input_ids, attention_mask), dim=1)"
   ]
  },
  {
   "cell_type": "code",
   "execution_count": 50,
   "metadata": {
    "id": "x4zvRGTbtut5"
   },
   "outputs": [],
   "source": [
    "import random\n",
    "\n",
    "seed_val = 17\n",
    "random.seed(seed_val)\n",
    "np.random.seed(seed_val)\n",
    "torch.manual_seed(seed_val)\n",
    "torch.cuda.manual_seed_all(seed_val)"
   ]
  },
  {
   "cell_type": "markdown",
   "metadata": {
    "id": "0DHZfQQoDVz-"
   },
   "source": [
    "# Helpers"
   ]
  },
  {
   "cell_type": "code",
   "execution_count": 51,
   "metadata": {
    "id": "N0PkmgutKhlq"
   },
   "outputs": [],
   "source": [
    "EPOCHS = 5\n",
    "\n",
    "optimizer = optim.AdamW(model.parameters(), lr=2e-5)  # , correct_bias=False)\n",
    "\n",
    "total_steps = len(train_data_loader) * EPOCHS\n",
    "\n",
    "scheduler = get_linear_schedule_with_warmup(\n",
    "    optimizer,\n",
    "    num_warmup_steps=0,\n",
    "    num_training_steps=total_steps\n",
    ")\n",
    "\n",
    "loss_fn = nn.CrossEntropyLoss().to(device)"
   ]
  },
  {
   "cell_type": "code",
   "execution_count": 52,
   "metadata": {
    "id": "BMVXOl3CoPmf"
   },
   "outputs": [],
   "source": [
    "def f1_score_func(preds, labels):\n",
    "    preds_flat = np.argmax(preds, axis=1).flatten()\n",
    "    labels_flat = labels.flatten()\n",
    "    return f1_score(labels_flat, preds_flat, average='weighted')"
   ]
  },
  {
   "cell_type": "code",
   "execution_count": 53,
   "metadata": {
    "id": "RX6daFMjoSXQ"
   },
   "outputs": [],
   "source": [
    "def accuracy_per_class(preds, labels):\n",
    "    label_dict_inverse = {v: k for k, v in label_dict.items()}\n",
    "\n",
    "    preds_flat = np.argmax(preds, axis=1).flatten()\n",
    "    labels_flat = labels.flatten()\n",
    "\n",
    "    for label in np.unique(labels_flat):\n",
    "        y_preds = preds_flat[labels_flat == label]\n",
    "        y_true = labels_flat[labels_flat == label]\n",
    "        print(f'Class: {label_dict_inverse[label]}')\n",
    "        print(f'Accuracy:{len(y_preds[y_preds==label])}/{len(y_true)}\\n')"
   ]
  },
  {
   "cell_type": "code",
   "execution_count": 54,
   "metadata": {
    "id": "eLLA6Ho3QBiZ"
   },
   "outputs": [],
   "source": [
    "def train_epoch(model,  data_loader,  loss_fn,  optimizer,  device,  scheduler,  n_examples,\n",
    "                epoch\n",
    "                # loss_train_total\n",
    "                ):\n",
    "\n",
    "    model = model.train()\n",
    "    losses = []\n",
    "    correct_predictions = 0\n",
    "\n",
    "    progress_bar = tqdm(train_data_loader,\n",
    "                        desc=f'Epoch {epoch}',\n",
    "                        leave=False,\n",
    "                        disable=False)\n",
    "\n",
    "    for batch in progress_bar:\n",
    "        #batch = tuple(b for b in batch)\n",
    "        # model.zero_grad()\n",
    "\n",
    "        input_ids = batch[\"input_ids\"].to(device)\n",
    "        attention_mask = batch[\"attention_mask\"].to(device)\n",
    "        labels = batch[\"labels\"].to(device)\n",
    "        outputs = model(\n",
    "            input_ids=input_ids,\n",
    "            attention_mask=attention_mask\n",
    "        )\n",
    "        _, preds = torch.max(outputs, dim=1)\n",
    "        loss = loss_fn(outputs, labels)\n",
    "        #loss_train_total +=loss.item()\n",
    "        correct_predictions += torch.sum(preds == labels)\n",
    "        losses.append(loss.item())\n",
    "        loss.backward()\n",
    "        nn.utils.clip_grad_norm_(model.parameters(), max_norm=1.0)\n",
    "        optimizer.step()\n",
    "        scheduler.step()\n",
    "\n",
    "        optimizer.zero_grad()\n",
    "\n",
    "        #progress_bar.set_postfix({'training_loss': '{:.3f}'.format(loss.item()/len(batch))})\n",
    "\n",
    "    #loss_train_avg = loss_train_total/len(data_loader)\n",
    "    #tqdm.write(f'Training loss: {loss_train_avg}')\n",
    "\n",
    "    accuracy = correct_predictions.to(\"cpu\").numpy() / n_examples\n",
    "\n",
    "    return accuracy, np.mean(losses)\n"
   ]
  },
  {
   "cell_type": "code",
   "execution_count": 55,
   "metadata": {
    "id": "tnnBbZuYQEtT"
   },
   "outputs": [],
   "source": [
    "def eval_model(model, data_loader, loss_fn, device, n_examples):\n",
    "\n",
    "    model = model.eval()\n",
    "\n",
    "    losses = []\n",
    "    correct_predictions = 0\n",
    "\n",
    "    with torch.no_grad():\n",
    "        for batch in tqdm(data_loader):\n",
    "            input_ids = batch[\"input_ids\"].to(device)\n",
    "            attention_mask = batch[\"attention_mask\"].to(device)\n",
    "            labels = batch[\"labels\"].to(device)\n",
    "\n",
    "            outputs = model(\n",
    "                input_ids=input_ids,\n",
    "                attention_mask=attention_mask\n",
    "            )\n",
    "            _, preds = torch.max(outputs, dim=1)\n",
    "            loss = loss_fn(outputs, labels)\n",
    "            correct_predictions += torch.sum(preds == labels)\n",
    "            losses.append(loss.item())\n",
    "\n",
    "            accuracy = correct_predictions.to(\"cpu\").numpy() / n_examples\n",
    "\n",
    "    return accuracy, np.mean(losses)"
   ]
  },
  {
   "cell_type": "markdown",
   "metadata": {
    "id": "_YIaCJXBPxgV"
   },
   "source": [
    "# Training\n",
    "\n",
    "How do we come up with all hyperparameters? The BERT authors have some recommendations for fine-tuning:\n",
    "\n",
    "Batch size: 16, 32\n",
    "\n",
    "Learning rate (Adam): 5e-5, 3e-5, 2e-5\n",
    "\n",
    "Number of epochs: 2, 3, 4"
   ]
  },
  {
   "cell_type": "code",
   "execution_count": 56,
   "metadata": {
    "colab": {
     "base_uri": "https://localhost:8080/",
     "height": 592,
     "referenced_widgets": [
      "6c9d3499161741009ebd62c3bd34b211",
      "83b0611f7ece4004891dcdcd983944ed",
      "c5f63faddfb3476889bab12a7bf38b08",
      "4d3e49c6f0714549b515c25adcbe8ced",
      "25e19e75a0ff475e96fa25096a0d25b7",
      "f64b689249594cf681c98e1d64fbc6c3",
      "6244f743c3a64c4b9f92dfd2c49e009d",
      "605a3c9d47d9453e8f06e8f9b24feb8e",
      "620246db7b0f4355b97ee980f01871e5",
      "2b05169f73164811a15263c26031367b",
      "b253e153ad2648cab5a62f2de225e1dd",
      "b26d8a13d9964852af85bfad601823eb",
      "e8562f3517c942aca67362752a456636",
      "d5e316900403443e8f1e3f47b306c230",
      "6cbc9f103a164857a7ef49680a9e3d27",
      "7b6d90b721de48b1866aeac3d6ba26ab",
      "24aff89dfdff466f8a08e5970b32af87",
      "e9424a5e31fd45c1a253be61f4699397",
      "b89b75d8d2db4e3abc96d4e43e99be01",
      "8d6d124db5334666a4f0e1c34c3eac6f",
      "269177430c07440c82a2e8271c58db65",
      "50bc547e36d54d53b2f50fb9e3302f73",
      "7af7aac21ee247ecb5e0f965d6b585e3",
      "",
      "4cd8d303246647b09322ea4f98910373",
      "0f9c4df332da47319a2addf76bd61f2a",
      "43dba932fb504aa5b6ca90fbb068b51c",
      "1cad80d3606f46b887b0c0cca8441935",
      "9b6a9c38358343259667f1372d26ec10"
     ]
    },
    "id": "AuZ_vGjPQIIa",
    "outputId": "5fa43823-1ac2-43e1-a924-3ce3fbb9fe21"
   },
   "outputs": [
    {
     "data": {
      "application/vnd.jupyter.widget-view+json": {
       "model_id": "66a702ca09434fe395ef8996bee28431",
       "version_major": 2,
       "version_minor": 0
      },
      "text/plain": [
       "  0%|          | 0/5 [00:00<?, ?it/s]"
      ]
     },
     "metadata": {},
     "output_type": "display_data"
    },
    {
     "name": "stdout",
     "output_type": "stream",
     "text": [
      "------------\n",
      "Progress 0/5\n"
     ]
    },
    {
     "data": {
      "application/vnd.jupyter.widget-view+json": {
       "model_id": "",
       "version_major": 2,
       "version_minor": 0
      },
      "text/plain": [
       "Epoch 1:   0%|          | 0/638 [00:00<?, ?it/s]"
      ]
     },
     "metadata": {},
     "output_type": "display_data"
    },
    {
     "name": "stdout",
     "output_type": "stream",
     "text": [
      "Train loss: 0.6767130768317787, Accuracy: 0.5755198116908592\n"
     ]
    },
    {
     "data": {
      "application/vnd.jupyter.widget-view+json": {
       "model_id": "997a0bfc559a4d0ea272e42df3dfc7cb",
       "version_major": 2,
       "version_minor": 0
      },
      "text/plain": [
       "  0%|          | 0/36 [00:00<?, ?it/s]"
      ]
     },
     "metadata": {},
     "output_type": "display_data"
    },
    {
     "name": "stdout",
     "output_type": "stream",
     "text": [
      "Val   loss: 0.6673579745822482, Accuracy: 0.6007067137809188\n",
      "\n",
      "------------\n",
      "Progress 1/5\n"
     ]
    },
    {
     "data": {
      "application/vnd.jupyter.widget-view+json": {
       "model_id": "",
       "version_major": 2,
       "version_minor": 0
      },
      "text/plain": [
       "Epoch 2:   0%|          | 0/638 [00:00<?, ?it/s]"
      ]
     },
     "metadata": {},
     "output_type": "display_data"
    },
    {
     "name": "stdout",
     "output_type": "stream",
     "text": [
      "Train loss: 0.6136743800019769, Accuracy: 0.6529030992546097\n"
     ]
    },
    {
     "data": {
      "application/vnd.jupyter.widget-view+json": {
       "model_id": "eb8efa0cfa9447feabf8f2775f849fcb",
       "version_major": 2,
       "version_minor": 0
      },
      "text/plain": [
       "  0%|          | 0/36 [00:00<?, ?it/s]"
      ]
     },
     "metadata": {},
     "output_type": "display_data"
    },
    {
     "name": "stdout",
     "output_type": "stream",
     "text": [
      "Val   loss: 0.6318986175788773, Accuracy: 0.6148409893992933\n",
      "\n",
      "------------\n",
      "Progress 2/5\n"
     ]
    },
    {
     "data": {
      "application/vnd.jupyter.widget-view+json": {
       "model_id": "",
       "version_major": 2,
       "version_minor": 0
      },
      "text/plain": [
       "Epoch 3:   0%|          | 0/638 [00:00<?, ?it/s]"
      ]
     },
     "metadata": {},
     "output_type": "display_data"
    },
    {
     "name": "stdout",
     "output_type": "stream",
     "text": [
      "Train loss: 0.5168035262290587, Accuracy: 0.7390153001176932\n"
     ]
    },
    {
     "data": {
      "application/vnd.jupyter.widget-view+json": {
       "model_id": "8b2c6c3e49c941ffb900dc0fe79742d3",
       "version_major": 2,
       "version_minor": 0
      },
      "text/plain": [
       "  0%|          | 0/36 [00:00<?, ?it/s]"
      ]
     },
     "metadata": {},
     "output_type": "display_data"
    },
    {
     "name": "stdout",
     "output_type": "stream",
     "text": [
      "Val   loss: 0.6695598537723223, Accuracy: 0.6413427561837456\n",
      "\n",
      "------------\n",
      "Progress 3/5\n"
     ]
    },
    {
     "data": {
      "application/vnd.jupyter.widget-view+json": {
       "model_id": "",
       "version_major": 2,
       "version_minor": 0
      },
      "text/plain": [
       "Epoch 4:   0%|          | 0/638 [00:00<?, ?it/s]"
      ]
     },
     "metadata": {},
     "output_type": "display_data"
    },
    {
     "name": "stdout",
     "output_type": "stream",
     "text": [
      "Train loss: 0.4206885891765076, Accuracy: 0.8093369948999608\n"
     ]
    },
    {
     "data": {
      "application/vnd.jupyter.widget-view+json": {
       "model_id": "bea507a760484de6a6f7668d0fb4de3d",
       "version_major": 2,
       "version_minor": 0
      },
      "text/plain": [
       "  0%|          | 0/36 [00:00<?, ?it/s]"
      ]
     },
     "metadata": {},
     "output_type": "display_data"
    },
    {
     "name": "stdout",
     "output_type": "stream",
     "text": [
      "Val   loss: 0.7354204348391957, Accuracy: 0.6466431095406361\n",
      "\n",
      "------------\n",
      "Progress 4/5\n"
     ]
    },
    {
     "data": {
      "application/vnd.jupyter.widget-view+json": {
       "model_id": "",
       "version_major": 2,
       "version_minor": 0
      },
      "text/plain": [
       "Epoch 5:   0%|          | 0/638 [00:00<?, ?it/s]"
      ]
     },
     "metadata": {},
     "output_type": "display_data"
    },
    {
     "name": "stdout",
     "output_type": "stream",
     "text": [
      "Train loss: 0.3441024287530808, Accuracy: 0.8557277363672028\n"
     ]
    },
    {
     "data": {
      "application/vnd.jupyter.widget-view+json": {
       "model_id": "6fd79113798b47588fb97a6b1af823b2",
       "version_major": 2,
       "version_minor": 0
      },
      "text/plain": [
       "  0%|          | 0/36 [00:00<?, ?it/s]"
      ]
     },
     "metadata": {},
     "output_type": "display_data"
    },
    {
     "name": "stdout",
     "output_type": "stream",
     "text": [
      "Val   loss: 0.8264073704679807, Accuracy: 0.6307420494699647\n",
      "\n",
      "CPU times: user 19min 54s, sys: 4min 45s, total: 24min 39s\n",
      "Wall time: 24min 54s\n"
     ]
    }
   ],
   "source": [
    "%%time\n",
    "\n",
    "history = defaultdict(list)\n",
    "best_accuracy = 0\n",
    "\n",
    "for epoch in tqdm(range(1, EPOCHS+1)):\n",
    "\n",
    "    #loss_train_total = 0\n",
    "    print('-' * 12)\n",
    "    print(f'Progress {epoch - 1}/{EPOCHS}')\n",
    "\n",
    "    train_acc, train_loss = train_epoch(\n",
    "        model,\n",
    "        train_data_loader,\n",
    "        loss_fn,\n",
    "        optimizer,\n",
    "        device,\n",
    "        scheduler,\n",
    "        len(df_train),\n",
    "        epoch\n",
    "        # loss_train_total\n",
    "    )\n",
    "    print(f'Train loss: {train_loss}, Accuracy: {train_acc}')\n",
    "\n",
    "    val_acc, val_loss = eval_model(\n",
    "        model,\n",
    "        val_data_loader,\n",
    "        loss_fn,\n",
    "        device,\n",
    "        len(df_val)\n",
    "    )\n",
    "\n",
    "    print(f'Val   loss: {val_loss}, Accuracy: {val_acc}')\n",
    "    print()\n",
    "\n",
    "    history['train_acc'].append(train_acc)\n",
    "    history['train_loss'].append(train_loss)\n",
    "    history['val_acc'].append(val_acc)\n",
    "    history['val_loss'].append(val_loss)\n",
    "\n",
    "    if val_acc > best_accuracy:\n",
    "        torch.save(model.state_dict(), f'best_model.bin')\n",
    "        best_accuracy = val_acc"
   ]
  },
  {
   "cell_type": "code",
   "execution_count": 57,
   "metadata": {
    "id": "q2LhAAW-Xa6J",
    "outputId": "c58d9199-b73b-4155-f83a-71980cfc77f4"
   },
   "outputs": [
    {
     "data": {
      "text/plain": [
       "<matplotlib.legend.Legend at 0x2ab3dfebb048>"
      ]
     },
     "execution_count": 57,
     "metadata": {},
     "output_type": "execute_result"
    },
    {
     "data": {
      "image/png": "[encoded data removed]",
      "text/plain": [
       "<Figure size 864x576 with 1 Axes>"
      ]
     },
     "metadata": {
      "image/png": {
       "height": 506,
       "width": 742
      }
     },
     "output_type": "display_data"
    }
   ],
   "source": [
    "plt.plot(history['train_acc'], label='train accuracy')\n",
    "plt.plot(history['val_acc'], label='validation accuracy')\n",
    "plt.title('Training history')\n",
    "plt.ylabel('Accuracy')\n",
    "plt.xlabel('Epoch')\n",
    "plt.ylim([0, 1]);\n",
    "plt.xlim([0, EPOCHS - 1]);\n",
    "plt.legend()"
   ]
  },
  {
   "cell_type": "markdown",
   "metadata": {
    "id": "APSdP6z3XgVO"
   },
   "source": [
    "## Can push pre-trained model and use later"
   ]
  },
  {
   "cell_type": "code",
   "execution_count": 58,
   "metadata": {
    "id": "25pJeFB1Xfqf"
   },
   "outputs": [],
   "source": [
    "# !gdown --id 1V8itWtowCYnb2Bc9KlK9SxGff9WwmogA\n",
    "# model = CustomModel(len(class_names))\n",
    "# model.load_state_dict(torch.load('best_model_state.bin'))\n",
    "# model = model.to(device)"
   ]
  },
  {
   "cell_type": "code",
   "execution_count": 59,
   "metadata": {
    "colab": {
     "referenced_widgets": [
      "0b261e15872540ada8faf9312c43ad1c"
     ]
    },
    "id": "nxDMvGbkXnvN",
    "outputId": "59417c64-5d94-4044-a8ce-f5f69b6f7b08"
   },
   "outputs": [
    {
     "data": {
      "application/vnd.jupyter.widget-view+json": {
       "model_id": "6bb8f9dfed204b9184621d3d05db1c31",
       "version_major": 2,
       "version_minor": 0
      },
      "text/plain": [
       "  0%|          | 0/36 [00:00<?, ?it/s]"
      ]
     },
     "metadata": {},
     "output_type": "display_data"
    },
    {
     "data": {
      "text/plain": [
       "0.671957671957672"
      ]
     },
     "execution_count": 59,
     "metadata": {},
     "output_type": "execute_result"
    }
   ],
   "source": [
    "test_acc, _ = eval_model(\n",
    "    model,\n",
    "    test_data_loader,\n",
    "    loss_fn,\n",
    "    device,\n",
    "    len(df_test)\n",
    ")\n",
    "test_acc.item()"
   ]
  },
  {
   "cell_type": "markdown",
   "metadata": {
    "id": "zgd9x2OkXoRh"
   },
   "source": [
    "# Evaluation"
   ]
  },
  {
   "cell_type": "code",
   "execution_count": 60,
   "metadata": {
    "id": "CXCzR6FwXvwo"
   },
   "outputs": [],
   "source": [
    "def get_predictions(model, data_loader):\n",
    "    model = model.eval()\n",
    "    func_texts = []\n",
    "    predictions = []\n",
    "    prediction_probs = []\n",
    "    real_values = []\n",
    "    with torch.no_grad():\n",
    "        for d in data_loader:\n",
    "            texts = d[\"func_text\"]\n",
    "            input_ids = d[\"input_ids\"].to(device)\n",
    "            attention_mask = d[\"attention_mask\"].to(device)\n",
    "            labels = d[\"labels\"].to(device)\n",
    "            outputs = model(\n",
    "                input_ids=input_ids,\n",
    "                attention_mask=attention_mask\n",
    "            )\n",
    "            _, preds = torch.max(outputs, dim=1)\n",
    "            func_texts.extend(texts)\n",
    "            predictions.extend(preds)\n",
    "            prediction_probs.extend(outputs)\n",
    "            real_values.extend(labels)\n",
    "    predictions = torch.stack(predictions).cpu()\n",
    "    prediction_probs = torch.stack(prediction_probs).cpu()\n",
    "    real_values = torch.stack(real_values).cpu()\n",
    "    return func_texts, predictions, prediction_probs, real_values"
   ]
  },
  {
   "cell_type": "code",
   "execution_count": 61,
   "metadata": {
    "id": "AEZsLL8VX5j8"
   },
   "outputs": [],
   "source": [
    "y_func_texts, y_pred, y_pred_probs, y_test = get_predictions(\n",
    "    model,\n",
    "    test_data_loader\n",
    ")"
   ]
  },
  {
   "cell_type": "code",
   "execution_count": 62,
   "metadata": {
    "id": "9hdb08RWX65o",
    "outputId": "1b2066af-937a-4644-d7da-78a7a008704f"
   },
   "outputs": [
    {
     "name": "stdout",
     "output_type": "stream",
     "text": [
      "              precision    recall  f1-score   support\n",
      "\n",
      "       False       0.74      0.69      0.72       337\n",
      "        True       0.59      0.64      0.61       230\n",
      "\n",
      "    accuracy                           0.67       567\n",
      "   macro avg       0.66      0.67      0.66       567\n",
      "weighted avg       0.68      0.67      0.67       567\n",
      "\n"
     ]
    }
   ],
   "source": [
    "print(classification_report(y_test, y_pred, target_names=class_names))"
   ]
  },
  {
   "cell_type": "code",
   "execution_count": 63,
   "metadata": {
    "id": "t2ecuMSKX8n-",
    "outputId": "0c310674-ce45-42f3-c018-2110b9b2905e"
   },
   "outputs": [
    {
     "data": {
      "image/png": "[encoded data removed]",
      "text/plain": [
       "<Figure size 864x576 with 2 Axes>"
      ]
     },
     "metadata": {
      "image/png": {
       "height": 504,
       "width": 700
      }
     },
     "output_type": "display_data"
    }
   ],
   "source": [
    "def show_confusion_matrix(confusion_matrix):\n",
    "    hmap = sns.heatmap(confusion_matrix, annot=True, fmt=\"d\", cmap=\"Blues\")\n",
    "    hmap.yaxis.set_ticklabels(\n",
    "        hmap.yaxis.get_ticklabels(), rotation=0, ha='right')\n",
    "    hmap.xaxis.set_ticklabels(\n",
    "        hmap.xaxis.get_ticklabels(), rotation=30, ha='right')\n",
    "    plt.ylabel('True sentiment')\n",
    "    plt.xlabel('Predicted sentiment')\n",
    "\n",
    "\n",
    "cm = confusion_matrix(y_test, y_pred)\n",
    "df_cm = pd.DataFrame(cm, index=class_names, columns=class_names)\n",
    "show_confusion_matrix(df_cm)"
   ]
  },
  {
   "cell_type": "markdown",
   "metadata": {
    "id": "y47tg5IrSsjI"
   },
   "source": [
    "### Push to Hub"
   ]
  },
  {
   "cell_type": "code",
   "execution_count": 64,
   "metadata": {
    "id": "_vLXeBaqPzCW"
   },
   "outputs": [],
   "source": [
    "#from huggingface_hub import notebook_login\n",
    "\n",
    "#notebook_login()"
   ]
  },
  {
   "cell_type": "code",
   "execution_count": 65,
   "metadata": {
    "id": "1yu61pJ-RGV4"
   },
   "outputs": [],
   "source": [
    "#model.push_to_hub(\"my-awesome-model\")"
   ]
  },
  {
   "cell_type": "markdown",
   "metadata": {
    "id": "yz9JnYteYCU3"
   },
   "source": [
    "# Manual test"
   ]
  },
  {
   "cell_type": "code",
   "execution_count": 66,
   "metadata": {
    "id": "aeqFLnhjYB78",
    "outputId": "7d88fb75-4f93-4df3-9d31-821b7673053a"
   },
   "outputs": [
    {
     "name": "stdout",
     "output_type": "stream",
     "text": [
      "static void default_show_tags(WriterContext *wctx, AVDictionary *dict)\n",
      "{      AVDictionaryEntry *tag = NULL;      while ((tag =\n",
      "av_dict_get(dict, \"\", tag, AV_DICT_IGNORE_SUFFIX))) {\n",
      "printf(\"TAG:\");          writer_print_string(wctx, tag->key,\n",
      "tag->value);      }  }\n",
      "\n",
      "True sentiment: False\n"
     ]
    }
   ],
   "source": [
    "idx = 2\n",
    "func_text = y_func_texts[idx]\n",
    "true_sentiment = y_test[idx]\n",
    "pred_df = pd.DataFrame({\n",
    "  'class_names': class_names,\n",
    "  'values': y_pred_probs[idx]\n",
    "})\n",
    "print(\"\\n\".join(wrap(func_text)))\n",
    "print()\n",
    "print(f'True sentiment: {class_names[true_sentiment]}')"
   ]
  },
  {
   "cell_type": "code",
   "execution_count": 67,
   "metadata": {
    "id": "4ekIz-MjYF97",
    "outputId": "ae85b89d-04d0-4100-ea96-cabc977f7da7"
   },
   "outputs": [
    {
     "data": {
      "image/png": "[encoded data removed]",
      "text/plain": [
       "<Figure size 864x576 with 1 Axes>"
      ]
     },
     "metadata": {
      "image/png": {
       "height": 489,
       "width": 755
      }
     },
     "output_type": "display_data"
    }
   ],
   "source": [
    "sns.barplot(x='values', y='class_names', data=pred_df, orient='h')\n",
    "plt.ylabel('Defect')\n",
    "plt.xlabel('probability')\n",
    "plt.xlim([0, 1]);"
   ]
  },
  {
   "cell_type": "code",
   "execution_count": 68,
   "metadata": {
    "id": "8yJ2ehhCYHeN"
   },
   "outputs": [],
   "source": [
    "func_text = '''\n",
    "int max(int num1, int num2) {\n",
    "\n",
    "   /* local variable declaration */\n",
    "   int result;\n",
    " \n",
    "   if (num1 > num2)\n",
    "      result = num1;\n",
    "   else\n",
    "      result = num2;\n",
    " \n",
    "   return result; \n",
    "}'''"
   ]
  },
  {
   "cell_type": "code",
   "execution_count": 69,
   "metadata": {
    "id": "CbNesqwOYIfm"
   },
   "outputs": [],
   "source": [
    "encoded_func = tokenizer.encode_plus(\n",
    "  func_text,\n",
    "  max_length=MAX_LEN,\n",
    "  add_special_tokens=True,\n",
    "  return_token_type_ids=False,\n",
    "  #pad_to_max_length=True,\n",
    "  truncation=True,\n",
    "  padding='max_length',\n",
    "  return_attention_mask=True,\n",
    "  return_tensors='pt',\n",
    ")"
   ]
  },
  {
   "cell_type": "code",
   "execution_count": 70,
   "metadata": {
    "id": "2lJt1PuYYJtw",
    "outputId": "0d02f8f9-7ab8-4789-f5b5-db11f6bc0041"
   },
   "outputs": [
    {
     "name": "stdout",
     "output_type": "stream",
     "text": [
      "Func: \n",
      "int max(int num1, int num2) {\n",
      "\n",
      "   /* local variable declaration */\n",
      "   int result;\n",
      " \n",
      "   if (num1 > num2)\n",
      "      result = num1;\n",
      "   else\n",
      "      result = num2;\n",
      " \n",
      "   return result; \n",
      "}\n",
      "Label  : True\n"
     ]
    }
   ],
   "source": [
    "input_ids = encoded_func['input_ids'].to(device)\n",
    "attention_mask = encoded_func['attention_mask'].to(device)\n",
    "output = model(input_ids, attention_mask)\n",
    "_, prediction = torch.max(output, dim=1)\n",
    "print(f'Func: {func_text}')\n",
    "print(f'Label  : {class_names[prediction]}')"
   ]
  },
  {
   "cell_type": "code",
   "execution_count": null,
   "metadata": {
    "id": "sFNlSeTNPRMJ"
   },
   "outputs": [],
   "source": []
  }
 ],
 "metadata": {
  "accelerator": "GPU",
  "colab": {
   "collapsed_sections": [],
   "include_colab_link": true,
   "name": "Pass_040922.ipynb",
   "provenance": [],
   "toc_visible": true
  },
  "kernelspec": {
   "display_name": "Python 3",
   "language": "python",
   "name": "python3"
  },
  "language_info": {
   "codemirror_mode": {
    "name": "ipython",
    "version": 3
   },
   "file_extension": ".py",
   "mimetype": "text/x-python",
   "name": "python",
   "nbconvert_exporter": "python",
   "pygments_lexer": "ipython3",
   "version": "3.6.8"
  },
  "toc-autonumbering": true,
  "toc-showmarkdowntxt": false,
  "widgets": {
   "application/vnd.jupyter.widget-state+json": {
    "05967ad7124c4949b82f47b2b551ea15": {
     "model_module": "@jupyter-widgets/controls",
     "model_module_version": "1.5.0",
     "model_name": "HTMLModel",
     "state": {
      "_dom_classes": [],
      "_model_module": "@jupyter-widgets/controls",
      "_model_module_version": "1.5.0",
      "_model_name": "HTMLModel",
      "_view_count": null,
      "_view_module": "@jupyter-widgets/controls",
      "_view_module_version": "1.5.0",
      "_view_name": "HTMLView",
      "description": "",
      "description_tooltip": null,
      "layout": "IPY_MODEL_09ac422dde3b4d3a8a85dd72a33697d9",
      "placeholder": "​",
      "style": "IPY_MODEL_9e33ee256f9248838e813ff577fedf94",
      "value": "100%"
     }
    },
    "06c746eb66ac41f1b7f573d024864916": {
     "model_module": "@jupyter-widgets/controls",
     "model_module_version": "1.5.0",
     "model_name": "FloatProgressModel",
     "state": {
      "_dom_classes": [],
      "_model_module": "@jupyter-widgets/controls",
      "_model_module_version": "1.5.0",
      "_model_name": "FloatProgressModel",
      "_view_count": null,
      "_view_module": "@jupyter-widgets/controls",
      "_view_module_version": "1.5.0",
      "_view_name": "ProgressView",
      "bar_style": "success",
      "description": "",
      "description_tooltip": null,
      "layout": "IPY_MODEL_c128dcb3d7c84484a407c04a60de410b",
      "max": 3,
      "min": 0,
      "orientation": "horizontal",
      "style": "IPY_MODEL_768fff71519f4e9b989c0196b28a53d6",
      "value": 3
     }
    },
    "09ac422dde3b4d3a8a85dd72a33697d9": {
     "model_module": "@jupyter-widgets/base",
     "model_module_version": "1.2.0",
     "model_name": "LayoutModel",
     "state": {
      "_model_module": "@jupyter-widgets/base",
      "_model_module_version": "1.2.0",
      "_model_name": "LayoutModel",
      "_view_count": null,
      "_view_module": "@jupyter-widgets/base",
      "_view_module_version": "1.2.0",
      "_view_name": "LayoutView",
      "align_content": null,
      "align_items": null,
      "align_self": null,
      "border": null,
      "bottom": null,
      "display": null,
      "flex": null,
      "flex_flow": null,
      "grid_area": null,
      "grid_auto_columns": null,
      "grid_auto_flow": null,
      "grid_auto_rows": null,
      "grid_column": null,
      "grid_gap": null,
      "grid_row": null,
      "grid_template_areas": null,
      "grid_template_columns": null,
      "grid_template_rows": null,
      "height": null,
      "justify_content": null,
      "justify_items": null,
      "left": null,
      "margin": null,
      "max_height": null,
      "max_width": null,
      "min_height": null,
      "min_width": null,
      "object_fit": null,
      "object_position": null,
      "order": null,
      "overflow": null,
      "overflow_x": null,
      "overflow_y": null,
      "padding": null,
      "right": null,
      "top": null,
      "visibility": null,
      "width": null
     }
    },
    "24aff89dfdff466f8a08e5970b32af87": {
     "model_module": "@jupyter-widgets/base",
     "model_module_version": "1.2.0",
     "model_name": "LayoutModel",
     "state": {
      "_model_module": "@jupyter-widgets/base",
      "_model_module_version": "1.2.0",
      "_model_name": "LayoutModel",
      "_view_count": null,
      "_view_module": "@jupyter-widgets/base",
      "_view_module_version": "1.2.0",
      "_view_name": "LayoutView",
      "align_content": null,
      "align_items": null,
      "align_self": null,
      "border": null,
      "bottom": null,
      "display": null,
      "flex": null,
      "flex_flow": null,
      "grid_area": null,
      "grid_auto_columns": null,
      "grid_auto_flow": null,
      "grid_auto_rows": null,
      "grid_column": null,
      "grid_gap": null,
      "grid_row": null,
      "grid_template_areas": null,
      "grid_template_columns": null,
      "grid_template_rows": null,
      "height": null,
      "justify_content": null,
      "justify_items": null,
      "left": null,
      "margin": null,
      "max_height": null,
      "max_width": null,
      "min_height": null,
      "min_width": null,
      "object_fit": null,
      "object_position": null,
      "order": null,
      "overflow": null,
      "overflow_x": null,
      "overflow_y": null,
      "padding": null,
      "right": null,
      "top": null,
      "visibility": null,
      "width": null
     }
    },
    "25e19e75a0ff475e96fa25096a0d25b7": {
     "model_module": "@jupyter-widgets/base",
     "model_module_version": "1.2.0",
     "model_name": "LayoutModel",
     "state": {
      "_model_module": "@jupyter-widgets/base",
      "_model_module_version": "1.2.0",
      "_model_name": "LayoutModel",
      "_view_count": null,
      "_view_module": "@jupyter-widgets/base",
      "_view_module_version": "1.2.0",
      "_view_name": "LayoutView",
      "align_content": null,
      "align_items": null,
      "align_self": null,
      "border": null,
      "bottom": null,
      "display": null,
      "flex": null,
      "flex_flow": null,
      "grid_area": null,
      "grid_auto_columns": null,
      "grid_auto_flow": null,
      "grid_auto_rows": null,
      "grid_column": null,
      "grid_gap": null,
      "grid_row": null,
      "grid_template_areas": null,
      "grid_template_columns": null,
      "grid_template_rows": null,
      "height": null,
      "justify_content": null,
      "justify_items": null,
      "left": null,
      "margin": null,
      "max_height": null,
      "max_width": null,
      "min_height": null,
      "min_width": null,
      "object_fit": null,
      "object_position": null,
      "order": null,
      "overflow": null,
      "overflow_x": null,
      "overflow_y": null,
      "padding": null,
      "right": null,
      "top": null,
      "visibility": null,
      "width": null
     }
    },
    "269177430c07440c82a2e8271c58db65": {
     "model_module": "@jupyter-widgets/base",
     "model_module_version": "1.2.0",
     "model_name": "LayoutModel",
     "state": {
      "_model_module": "@jupyter-widgets/base",
      "_model_module_version": "1.2.0",
      "_model_name": "LayoutModel",
      "_view_count": null,
      "_view_module": "@jupyter-widgets/base",
      "_view_module_version": "1.2.0",
      "_view_name": "LayoutView",
      "align_content": null,
      "align_items": null,
      "align_self": null,
      "border": null,
      "bottom": null,
      "display": null,
      "flex": null,
      "flex_flow": null,
      "grid_area": null,
      "grid_auto_columns": null,
      "grid_auto_flow": null,
      "grid_auto_rows": null,
      "grid_column": null,
      "grid_gap": null,
      "grid_row": null,
      "grid_template_areas": null,
      "grid_template_columns": null,
      "grid_template_rows": null,
      "height": null,
      "justify_content": null,
      "justify_items": null,
      "left": null,
      "margin": null,
      "max_height": null,
      "max_width": null,
      "min_height": null,
      "min_width": null,
      "object_fit": null,
      "object_position": null,
      "order": null,
      "overflow": null,
      "overflow_x": null,
      "overflow_y": null,
      "padding": null,
      "right": null,
      "top": null,
      "visibility": null,
      "width": null
     }
    },
    "2b05169f73164811a15263c26031367b": {
     "model_module": "@jupyter-widgets/base",
     "model_module_version": "1.2.0",
     "model_name": "LayoutModel",
     "state": {
      "_model_module": "@jupyter-widgets/base",
      "_model_module_version": "1.2.0",
      "_model_name": "LayoutModel",
      "_view_count": null,
      "_view_module": "@jupyter-widgets/base",
      "_view_module_version": "1.2.0",
      "_view_name": "LayoutView",
      "align_content": null,
      "align_items": null,
      "align_self": null,
      "border": null,
      "bottom": null,
      "display": null,
      "flex": null,
      "flex_flow": null,
      "grid_area": null,
      "grid_auto_columns": null,
      "grid_auto_flow": null,
      "grid_auto_rows": null,
      "grid_column": null,
      "grid_gap": null,
      "grid_row": null,
      "grid_template_areas": null,
      "grid_template_columns": null,
      "grid_template_rows": null,
      "height": null,
      "justify_content": null,
      "justify_items": null,
      "left": null,
      "margin": null,
      "max_height": null,
      "max_width": null,
      "min_height": null,
      "min_width": null,
      "object_fit": null,
      "object_position": null,
      "order": null,
      "overflow": null,
      "overflow_x": null,
      "overflow_y": null,
      "padding": null,
      "right": null,
      "top": null,
      "visibility": null,
      "width": null
     }
    },
    "42e73da070fc4671b15f80e22eb06786": {
     "model_module": "@jupyter-widgets/controls",
     "model_module_version": "1.5.0",
     "model_name": "HBoxModel",
     "state": {
      "_dom_classes": [],
      "_model_module": "@jupyter-widgets/controls",
      "_model_module_version": "1.5.0",
      "_model_name": "HBoxModel",
      "_view_count": null,
      "_view_module": "@jupyter-widgets/controls",
      "_view_module_version": "1.5.0",
      "_view_name": "HBoxView",
      "box_style": "",
      "children": [
       "IPY_MODEL_05967ad7124c4949b82f47b2b551ea15",
       "IPY_MODEL_06c746eb66ac41f1b7f573d024864916",
       "IPY_MODEL_f8e73fd42f644062b63d45e56993ddc8"
      ],
      "layout": "IPY_MODEL_73cc05e6173540e98bb658ca4b444171"
     }
    },
    "4d3e49c6f0714549b515c25adcbe8ced": {
     "model_module": "@jupyter-widgets/controls",
     "model_module_version": "1.5.0",
     "model_name": "HTMLModel",
     "state": {
      "_dom_classes": [],
      "_model_module": "@jupyter-widgets/controls",
      "_model_module_version": "1.5.0",
      "_model_name": "HTMLModel",
      "_view_count": null,
      "_view_module": "@jupyter-widgets/controls",
      "_view_module_version": "1.5.0",
      "_view_name": "HTMLView",
      "description": "",
      "description_tooltip": null,
      "layout": "IPY_MODEL_2b05169f73164811a15263c26031367b",
      "placeholder": "​",
      "style": "IPY_MODEL_b253e153ad2648cab5a62f2de225e1dd",
      "value": " 0/5 [00:00&lt;?, ?it/s]"
     }
    },
    "50bc547e36d54d53b2f50fb9e3302f73": {
     "model_module": "@jupyter-widgets/controls",
     "model_module_version": "1.5.0",
     "model_name": "DescriptionStyleModel",
     "state": {
      "_model_module": "@jupyter-widgets/controls",
      "_model_module_version": "1.5.0",
      "_model_name": "DescriptionStyleModel",
      "_view_count": null,
      "_view_module": "@jupyter-widgets/base",
      "_view_module_version": "1.2.0",
      "_view_name": "StyleView",
      "description_width": ""
     }
    },
    "605a3c9d47d9453e8f06e8f9b24feb8e": {
     "model_module": "@jupyter-widgets/base",
     "model_module_version": "1.2.0",
     "model_name": "LayoutModel",
     "state": {
      "_model_module": "@jupyter-widgets/base",
      "_model_module_version": "1.2.0",
      "_model_name": "LayoutModel",
      "_view_count": null,
      "_view_module": "@jupyter-widgets/base",
      "_view_module_version": "1.2.0",
      "_view_name": "LayoutView",
      "align_content": null,
      "align_items": null,
      "align_self": null,
      "border": null,
      "bottom": null,
      "display": null,
      "flex": null,
      "flex_flow": null,
      "grid_area": null,
      "grid_auto_columns": null,
      "grid_auto_flow": null,
      "grid_auto_rows": null,
      "grid_column": null,
      "grid_gap": null,
      "grid_row": null,
      "grid_template_areas": null,
      "grid_template_columns": null,
      "grid_template_rows": null,
      "height": null,
      "justify_content": null,
      "justify_items": null,
      "left": null,
      "margin": null,
      "max_height": null,
      "max_width": null,
      "min_height": null,
      "min_width": null,
      "object_fit": null,
      "object_position": null,
      "order": null,
      "overflow": null,
      "overflow_x": null,
      "overflow_y": null,
      "padding": null,
      "right": null,
      "top": null,
      "visibility": null,
      "width": null
     }
    },
    "620246db7b0f4355b97ee980f01871e5": {
     "model_module": "@jupyter-widgets/controls",
     "model_module_version": "1.5.0",
     "model_name": "ProgressStyleModel",
     "state": {
      "_model_module": "@jupyter-widgets/controls",
      "_model_module_version": "1.5.0",
      "_model_name": "ProgressStyleModel",
      "_view_count": null,
      "_view_module": "@jupyter-widgets/base",
      "_view_module_version": "1.2.0",
      "_view_name": "StyleView",
      "bar_color": null,
      "description_width": ""
     }
    },
    "6244f743c3a64c4b9f92dfd2c49e009d": {
     "model_module": "@jupyter-widgets/controls",
     "model_module_version": "1.5.0",
     "model_name": "DescriptionStyleModel",
     "state": {
      "_model_module": "@jupyter-widgets/controls",
      "_model_module_version": "1.5.0",
      "_model_name": "DescriptionStyleModel",
      "_view_count": null,
      "_view_module": "@jupyter-widgets/base",
      "_view_module_version": "1.2.0",
      "_view_name": "StyleView",
      "description_width": ""
     }
    },
    "6c9d3499161741009ebd62c3bd34b211": {
     "model_module": "@jupyter-widgets/controls",
     "model_module_version": "1.5.0",
     "model_name": "HBoxModel",
     "state": {
      "_dom_classes": [],
      "_model_module": "@jupyter-widgets/controls",
      "_model_module_version": "1.5.0",
      "_model_name": "HBoxModel",
      "_view_count": null,
      "_view_module": "@jupyter-widgets/controls",
      "_view_module_version": "1.5.0",
      "_view_name": "HBoxView",
      "box_style": "",
      "children": [
       "IPY_MODEL_83b0611f7ece4004891dcdcd983944ed",
       "IPY_MODEL_c5f63faddfb3476889bab12a7bf38b08",
       "IPY_MODEL_4d3e49c6f0714549b515c25adcbe8ced"
      ],
      "layout": "IPY_MODEL_25e19e75a0ff475e96fa25096a0d25b7"
     }
    },
    "6cbc9f103a164857a7ef49680a9e3d27": {
     "model_module": "@jupyter-widgets/controls",
     "model_module_version": "1.5.0",
     "model_name": "HTMLModel",
     "state": {
      "_dom_classes": [],
      "_model_module": "@jupyter-widgets/controls",
      "_model_module_version": "1.5.0",
      "_model_name": "HTMLModel",
      "_view_count": null,
      "_view_module": "@jupyter-widgets/controls",
      "_view_module_version": "1.5.0",
      "_view_name": "HTMLView",
      "description": "",
      "description_tooltip": null,
      "layout": "IPY_MODEL_269177430c07440c82a2e8271c58db65",
      "placeholder": "​",
      "style": "IPY_MODEL_50bc547e36d54d53b2f50fb9e3302f73",
      "value": " 0/597 [00:00&lt;?, ?it/s]"
     }
    },
    "73cc05e6173540e98bb658ca4b444171": {
     "model_module": "@jupyter-widgets/base",
     "model_module_version": "1.2.0",
     "model_name": "LayoutModel",
     "state": {
      "_model_module": "@jupyter-widgets/base",
      "_model_module_version": "1.2.0",
      "_model_name": "LayoutModel",
      "_view_count": null,
      "_view_module": "@jupyter-widgets/base",
      "_view_module_version": "1.2.0",
      "_view_name": "LayoutView",
      "align_content": null,
      "align_items": null,
      "align_self": null,
      "border": null,
      "bottom": null,
      "display": null,
      "flex": null,
      "flex_flow": null,
      "grid_area": null,
      "grid_auto_columns": null,
      "grid_auto_flow": null,
      "grid_auto_rows": null,
      "grid_column": null,
      "grid_gap": null,
      "grid_row": null,
      "grid_template_areas": null,
      "grid_template_columns": null,
      "grid_template_rows": null,
      "height": null,
      "justify_content": null,
      "justify_items": null,
      "left": null,
      "margin": null,
      "max_height": null,
      "max_width": null,
      "min_height": null,
      "min_width": null,
      "object_fit": null,
      "object_position": null,
      "order": null,
      "overflow": null,
      "overflow_x": null,
      "overflow_y": null,
      "padding": null,
      "right": null,
      "top": null,
      "visibility": null,
      "width": null
     }
    },
    "768fff71519f4e9b989c0196b28a53d6": {
     "model_module": "@jupyter-widgets/controls",
     "model_module_version": "1.5.0",
     "model_name": "ProgressStyleModel",
     "state": {
      "_model_module": "@jupyter-widgets/controls",
      "_model_module_version": "1.5.0",
      "_model_name": "ProgressStyleModel",
      "_view_count": null,
      "_view_module": "@jupyter-widgets/base",
      "_view_module_version": "1.2.0",
      "_view_name": "StyleView",
      "bar_color": null,
      "description_width": ""
     }
    },
    "7b6d90b721de48b1866aeac3d6ba26ab": {
     "model_module": "@jupyter-widgets/base",
     "model_module_version": "1.2.0",
     "model_name": "LayoutModel",
     "state": {
      "_model_module": "@jupyter-widgets/base",
      "_model_module_version": "1.2.0",
      "_model_name": "LayoutModel",
      "_view_count": null,
      "_view_module": "@jupyter-widgets/base",
      "_view_module_version": "1.2.0",
      "_view_name": "LayoutView",
      "align_content": null,
      "align_items": null,
      "align_self": null,
      "border": null,
      "bottom": null,
      "display": null,
      "flex": null,
      "flex_flow": null,
      "grid_area": null,
      "grid_auto_columns": null,
      "grid_auto_flow": null,
      "grid_auto_rows": null,
      "grid_column": null,
      "grid_gap": null,
      "grid_row": null,
      "grid_template_areas": null,
      "grid_template_columns": null,
      "grid_template_rows": null,
      "height": null,
      "justify_content": null,
      "justify_items": null,
      "left": null,
      "margin": null,
      "max_height": null,
      "max_width": null,
      "min_height": null,
      "min_width": null,
      "object_fit": null,
      "object_position": null,
      "order": null,
      "overflow": null,
      "overflow_x": null,
      "overflow_y": null,
      "padding": null,
      "right": null,
      "top": null,
      "visibility": null,
      "width": null
     }
    },
    "83b0611f7ece4004891dcdcd983944ed": {
     "model_module": "@jupyter-widgets/controls",
     "model_module_version": "1.5.0",
     "model_name": "HTMLModel",
     "state": {
      "_dom_classes": [],
      "_model_module": "@jupyter-widgets/controls",
      "_model_module_version": "1.5.0",
      "_model_name": "HTMLModel",
      "_view_count": null,
      "_view_module": "@jupyter-widgets/controls",
      "_view_module_version": "1.5.0",
      "_view_name": "HTMLView",
      "description": "",
      "description_tooltip": null,
      "layout": "IPY_MODEL_f64b689249594cf681c98e1d64fbc6c3",
      "placeholder": "​",
      "style": "IPY_MODEL_6244f743c3a64c4b9f92dfd2c49e009d",
      "value": "  0%"
     }
    },
    "8d6d124db5334666a4f0e1c34c3eac6f": {
     "model_module": "@jupyter-widgets/controls",
     "model_module_version": "1.5.0",
     "model_name": "ProgressStyleModel",
     "state": {
      "_model_module": "@jupyter-widgets/controls",
      "_model_module_version": "1.5.0",
      "_model_name": "ProgressStyleModel",
      "_view_count": null,
      "_view_module": "@jupyter-widgets/base",
      "_view_module_version": "1.2.0",
      "_view_name": "StyleView",
      "bar_color": null,
      "description_width": ""
     }
    },
    "9e33ee256f9248838e813ff577fedf94": {
     "model_module": "@jupyter-widgets/controls",
     "model_module_version": "1.5.0",
     "model_name": "DescriptionStyleModel",
     "state": {
      "_model_module": "@jupyter-widgets/controls",
      "_model_module_version": "1.5.0",
      "_model_name": "DescriptionStyleModel",
      "_view_count": null,
      "_view_module": "@jupyter-widgets/base",
      "_view_module_version": "1.2.0",
      "_view_name": "StyleView",
      "description_width": ""
     }
    },
    "a2cde7484e8c4b1ba5f451e2ff554b7b": {
     "model_module": "@jupyter-widgets/controls",
     "model_module_version": "1.5.0",
     "model_name": "DescriptionStyleModel",
     "state": {
      "_model_module": "@jupyter-widgets/controls",
      "_model_module_version": "1.5.0",
      "_model_name": "DescriptionStyleModel",
      "_view_count": null,
      "_view_module": "@jupyter-widgets/base",
      "_view_module_version": "1.2.0",
      "_view_name": "StyleView",
      "description_width": ""
     }
    },
    "b253e153ad2648cab5a62f2de225e1dd": {
     "model_module": "@jupyter-widgets/controls",
     "model_module_version": "1.5.0",
     "model_name": "DescriptionStyleModel",
     "state": {
      "_model_module": "@jupyter-widgets/controls",
      "_model_module_version": "1.5.0",
      "_model_name": "DescriptionStyleModel",
      "_view_count": null,
      "_view_module": "@jupyter-widgets/base",
      "_view_module_version": "1.2.0",
      "_view_name": "StyleView",
      "description_width": ""
     }
    },
    "b26d8a13d9964852af85bfad601823eb": {
     "model_module": "@jupyter-widgets/controls",
     "model_module_version": "1.5.0",
     "model_name": "HBoxModel",
     "state": {
      "_dom_classes": [],
      "_model_module": "@jupyter-widgets/controls",
      "_model_module_version": "1.5.0",
      "_model_name": "HBoxModel",
      "_view_count": null,
      "_view_module": "@jupyter-widgets/controls",
      "_view_module_version": "1.5.0",
      "_view_name": "HBoxView",
      "box_style": "",
      "children": [
       "IPY_MODEL_e8562f3517c942aca67362752a456636",
       "IPY_MODEL_d5e316900403443e8f1e3f47b306c230",
       "IPY_MODEL_6cbc9f103a164857a7ef49680a9e3d27"
      ],
      "layout": "IPY_MODEL_7b6d90b721de48b1866aeac3d6ba26ab"
     }
    },
    "b89b75d8d2db4e3abc96d4e43e99be01": {
     "model_module": "@jupyter-widgets/base",
     "model_module_version": "1.2.0",
     "model_name": "LayoutModel",
     "state": {
      "_model_module": "@jupyter-widgets/base",
      "_model_module_version": "1.2.0",
      "_model_name": "LayoutModel",
      "_view_count": null,
      "_view_module": "@jupyter-widgets/base",
      "_view_module_version": "1.2.0",
      "_view_name": "LayoutView",
      "align_content": null,
      "align_items": null,
      "align_self": null,
      "border": null,
      "bottom": null,
      "display": null,
      "flex": null,
      "flex_flow": null,
      "grid_area": null,
      "grid_auto_columns": null,
      "grid_auto_flow": null,
      "grid_auto_rows": null,
      "grid_column": null,
      "grid_gap": null,
      "grid_row": null,
      "grid_template_areas": null,
      "grid_template_columns": null,
      "grid_template_rows": null,
      "height": null,
      "justify_content": null,
      "justify_items": null,
      "left": null,
      "margin": null,
      "max_height": null,
      "max_width": null,
      "min_height": null,
      "min_width": null,
      "object_fit": null,
      "object_position": null,
      "order": null,
      "overflow": null,
      "overflow_x": null,
      "overflow_y": null,
      "padding": null,
      "right": null,
      "top": null,
      "visibility": null,
      "width": null
     }
    },
    "c128dcb3d7c84484a407c04a60de410b": {
     "model_module": "@jupyter-widgets/base",
     "model_module_version": "1.2.0",
     "model_name": "LayoutModel",
     "state": {
      "_model_module": "@jupyter-widgets/base",
      "_model_module_version": "1.2.0",
      "_model_name": "LayoutModel",
      "_view_count": null,
      "_view_module": "@jupyter-widgets/base",
      "_view_module_version": "1.2.0",
      "_view_name": "LayoutView",
      "align_content": null,
      "align_items": null,
      "align_self": null,
      "border": null,
      "bottom": null,
      "display": null,
      "flex": null,
      "flex_flow": null,
      "grid_area": null,
      "grid_auto_columns": null,
      "grid_auto_flow": null,
      "grid_auto_rows": null,
      "grid_column": null,
      "grid_gap": null,
      "grid_row": null,
      "grid_template_areas": null,
      "grid_template_columns": null,
      "grid_template_rows": null,
      "height": null,
      "justify_content": null,
      "justify_items": null,
      "left": null,
      "margin": null,
      "max_height": null,
      "max_width": null,
      "min_height": null,
      "min_width": null,
      "object_fit": null,
      "object_position": null,
      "order": null,
      "overflow": null,
      "overflow_x": null,
      "overflow_y": null,
      "padding": null,
      "right": null,
      "top": null,
      "visibility": null,
      "width": null
     }
    },
    "c5f63faddfb3476889bab12a7bf38b08": {
     "model_module": "@jupyter-widgets/controls",
     "model_module_version": "1.5.0",
     "model_name": "FloatProgressModel",
     "state": {
      "_dom_classes": [],
      "_model_module": "@jupyter-widgets/controls",
      "_model_module_version": "1.5.0",
      "_model_name": "FloatProgressModel",
      "_view_count": null,
      "_view_module": "@jupyter-widgets/controls",
      "_view_module_version": "1.5.0",
      "_view_name": "ProgressView",
      "bar_style": "danger",
      "description": "",
      "description_tooltip": null,
      "layout": "IPY_MODEL_605a3c9d47d9453e8f06e8f9b24feb8e",
      "max": 5,
      "min": 0,
      "orientation": "horizontal",
      "style": "IPY_MODEL_620246db7b0f4355b97ee980f01871e5",
      "value": 0
     }
    },
    "d5e316900403443e8f1e3f47b306c230": {
     "model_module": "@jupyter-widgets/controls",
     "model_module_version": "1.5.0",
     "model_name": "FloatProgressModel",
     "state": {
      "_dom_classes": [],
      "_model_module": "@jupyter-widgets/controls",
      "_model_module_version": "1.5.0",
      "_model_name": "FloatProgressModel",
      "_view_count": null,
      "_view_module": "@jupyter-widgets/controls",
      "_view_module_version": "1.5.0",
      "_view_name": "ProgressView",
      "bar_style": "danger",
      "description": "",
      "description_tooltip": null,
      "layout": "IPY_MODEL_b89b75d8d2db4e3abc96d4e43e99be01",
      "max": 597,
      "min": 0,
      "orientation": "horizontal",
      "style": "IPY_MODEL_8d6d124db5334666a4f0e1c34c3eac6f",
      "value": 0
     }
    },
    "e8562f3517c942aca67362752a456636": {
     "model_module": "@jupyter-widgets/controls",
     "model_module_version": "1.5.0",
     "model_name": "HTMLModel",
     "state": {
      "_dom_classes": [],
      "_model_module": "@jupyter-widgets/controls",
      "_model_module_version": "1.5.0",
      "_model_name": "HTMLModel",
      "_view_count": null,
      "_view_module": "@jupyter-widgets/controls",
      "_view_module_version": "1.5.0",
      "_view_name": "HTMLView",
      "description": "",
      "description_tooltip": null,
      "layout": "IPY_MODEL_24aff89dfdff466f8a08e5970b32af87",
      "placeholder": "​",
      "style": "IPY_MODEL_e9424a5e31fd45c1a253be61f4699397",
      "value": "Epoch 1:   0%"
     }
    },
    "e9424a5e31fd45c1a253be61f4699397": {
     "model_module": "@jupyter-widgets/controls",
     "model_module_version": "1.5.0",
     "model_name": "DescriptionStyleModel",
     "state": {
      "_model_module": "@jupyter-widgets/controls",
      "_model_module_version": "1.5.0",
      "_model_name": "DescriptionStyleModel",
      "_view_count": null,
      "_view_module": "@jupyter-widgets/base",
      "_view_module_version": "1.2.0",
      "_view_name": "StyleView",
      "description_width": ""
     }
    },
    "f20338cea3fd4a2ba17944d3175b122a": {
     "model_module": "@jupyter-widgets/base",
     "model_module_version": "1.2.0",
     "model_name": "LayoutModel",
     "state": {
      "_model_module": "@jupyter-widgets/base",
      "_model_module_version": "1.2.0",
      "_model_name": "LayoutModel",
      "_view_count": null,
      "_view_module": "@jupyter-widgets/base",
      "_view_module_version": "1.2.0",
      "_view_name": "LayoutView",
      "align_content": null,
      "align_items": null,
      "align_self": null,
      "border": null,
      "bottom": null,
      "display": null,
      "flex": null,
      "flex_flow": null,
      "grid_area": null,
      "grid_auto_columns": null,
      "grid_auto_flow": null,
      "grid_auto_rows": null,
      "grid_column": null,
      "grid_gap": null,
      "grid_row": null,
      "grid_template_areas": null,
      "grid_template_columns": null,
      "grid_template_rows": null,
      "height": null,
      "justify_content": null,
      "justify_items": null,
      "left": null,
      "margin": null,
      "max_height": null,
      "max_width": null,
      "min_height": null,
      "min_width": null,
      "object_fit": null,
      "object_position": null,
      "order": null,
      "overflow": null,
      "overflow_x": null,
      "overflow_y": null,
      "padding": null,
      "right": null,
      "top": null,
      "visibility": null,
      "width": null
     }
    },
    "f64b689249594cf681c98e1d64fbc6c3": {
     "model_module": "@jupyter-widgets/base",
     "model_module_version": "1.2.0",
     "model_name": "LayoutModel",
     "state": {
      "_model_module": "@jupyter-widgets/base",
      "_model_module_version": "1.2.0",
      "_model_name": "LayoutModel",
      "_view_count": null,
      "_view_module": "@jupyter-widgets/base",
      "_view_module_version": "1.2.0",
      "_view_name": "LayoutView",
      "align_content": null,
      "align_items": null,
      "align_self": null,
      "border": null,
      "bottom": null,
      "display": null,
      "flex": null,
      "flex_flow": null,
      "grid_area": null,
      "grid_auto_columns": null,
      "grid_auto_flow": null,
      "grid_auto_rows": null,
      "grid_column": null,
      "grid_gap": null,
      "grid_row": null,
      "grid_template_areas": null,
      "grid_template_columns": null,
      "grid_template_rows": null,
      "height": null,
      "justify_content": null,
      "justify_items": null,
      "left": null,
      "margin": null,
      "max_height": null,
      "max_width": null,
      "min_height": null,
      "min_width": null,
      "object_fit": null,
      "object_position": null,
      "order": null,
      "overflow": null,
      "overflow_x": null,
      "overflow_y": null,
      "padding": null,
      "right": null,
      "top": null,
      "visibility": null,
      "width": null
     }
    },
    "f8e73fd42f644062b63d45e56993ddc8": {
     "model_module": "@jupyter-widgets/controls",
     "model_module_version": "1.5.0",
     "model_name": "HTMLModel",
     "state": {
      "_dom_classes": [],
      "_model_module": "@jupyter-widgets/controls",
      "_model_module_version": "1.5.0",
      "_model_name": "HTMLModel",
      "_view_count": null,
      "_view_module": "@jupyter-widgets/controls",
      "_view_module_version": "1.5.0",
      "_view_name": "HTMLView",
      "description": "",
      "description_tooltip": null,
      "layout": "IPY_MODEL_f20338cea3fd4a2ba17944d3175b122a",
      "placeholder": "​",
      "style": "IPY_MODEL_a2cde7484e8c4b1ba5f451e2ff554b7b",
      "value": " 3/3 [00:00&lt;00:00, 62.87it/s]"
     }
    }
   }
  }
 },
 "nbformat": 4,
 "nbformat_minor": 4
}
